{
 "cells": [
  {
   "cell_type": "code",
   "execution_count": 1,
   "id": "64cda722-e253-48bf-9375-69320c919f2f",
   "metadata": {},
   "outputs": [],
   "source": [
    "import numpy as np\n",
    "import pandas as pd\n",
    "import gc\n",
    "import time\n",
    "from pickle import dump\n",
    "from contextlib import contextmanager\n",
    "from lightgbm import LGBMClassifier\n",
    "from sklearn.metrics import roc_auc_score, roc_curve\n",
    "from sklearn.model_selection import KFold, StratifiedKFold\n",
    "import matplotlib.pyplot as plt\n",
    "import seaborn as sns\n",
    "import warnings\n",
    "import re\n",
    "import pickle\n",
    "from sklearn.model_selection import train_test_split\n",
    "from sklearn.metrics import roc_curve, auc\n",
    "from sklearn.metrics import plot_confusion_matrix\n",
    "from sklearn.metrics import precision_recall_fscore_support"
   ]
  },
  {
   "cell_type": "code",
   "execution_count": 2,
   "id": "01d28e4c-052c-4040-99b1-12f57b1f9fc2",
   "metadata": {},
   "outputs": [],
   "source": [
    "from matplotlib.colors import ListedColormap\n",
    "from sklearn.model_selection import train_test_split\n",
    "from sklearn.preprocessing import StandardScaler\n",
    "from sklearn.datasets import make_moons, make_circles, make_classification\n",
    "from sklearn.neural_network import MLPClassifier\n",
    "from sklearn.neighbors import KNeighborsClassifier\n",
    "from sklearn.svm import SVC\n",
    "from sklearn.gaussian_process import GaussianProcessClassifier\n",
    "from sklearn.gaussian_process.kernels import RBF\n",
    "from sklearn.tree import DecisionTreeClassifier\n",
    "from sklearn.ensemble import RandomForestClassifier, AdaBoostClassifier\n",
    "from sklearn.naive_bayes import GaussianNB\n",
    "from sklearn.discriminant_analysis import QuadraticDiscriminantAnalysis\n",
    "from sklearn.inspection import DecisionBoundaryDisplay\n",
    "from imblearn.over_sampling import SMOTE "
   ]
  },
  {
   "cell_type": "code",
   "execution_count": 3,
   "id": "a25ed1fd-4e77-415e-b13f-f1cb365f8d26",
   "metadata": {},
   "outputs": [],
   "source": [
    "from sklearn.impute import KNNImputer, SimpleImputer\n",
    "from sklearn.metrics import confusion_matrix\n"
   ]
  },
  {
   "cell_type": "code",
   "execution_count": 4,
   "id": "9072a689-aedb-4559-ac0e-e5f36617b9df",
   "metadata": {},
   "outputs": [],
   "source": [
    "df=pd.read_csv('../input/data_process.csv')"
   ]
  },
  {
   "cell_type": "code",
   "execution_count": 5,
   "id": "5fd568c9-98a5-448b-8838-7c61dc8ad20b",
   "metadata": {},
   "outputs": [
    {
     "data": {
      "text/plain": [
       "(356251, 799)"
      ]
     },
     "execution_count": 5,
     "metadata": {},
     "output_type": "execute_result"
    }
   ],
   "source": [
    "df.shape"
   ]
  },
  {
   "cell_type": "markdown",
   "id": "10a96b83-1492-4200-ace5-86c49c901c7c",
   "metadata": {},
   "source": [
    "# Préprocessing "
   ]
  },
  {
   "cell_type": "code",
   "execution_count": 6,
   "id": "9bc4e894-3fd8-449e-94af-9c7b5c2f9b95",
   "metadata": {},
   "outputs": [],
   "source": [
    "df = df[df['TARGET'].notnull()]"
   ]
  },
  {
   "cell_type": "code",
   "execution_count": 7,
   "id": "cf32f09c-875c-41d8-a53c-1e27097353ea",
   "metadata": {},
   "outputs": [],
   "source": [
    "df = df.drop(\"Unnamed: 0\", axis=1)"
   ]
  },
  {
   "cell_type": "code",
   "execution_count": 8,
   "id": "360b6109-c930-42f4-8314-bdb084f6bb99",
   "metadata": {},
   "outputs": [],
   "source": [
    "df = df.drop(\"index\", axis=1)"
   ]
  },
  {
   "cell_type": "code",
   "execution_count": 9,
   "id": "8d76f276-1fe5-47b0-a060-cbc14040c1dd",
   "metadata": {},
   "outputs": [],
   "source": [
    "df = df.drop(\"SK_ID_CURR\", axis=1)"
   ]
  },
  {
   "cell_type": "code",
   "execution_count": 10,
   "id": "69348ee4-49cd-47b9-a1e9-2f0df0e9413c",
   "metadata": {},
   "outputs": [],
   "source": [
    "Y = df[\"TARGET\"]"
   ]
  },
  {
   "cell_type": "code",
   "execution_count": 11,
   "id": "fb845e84-aebb-4be4-b5bc-3279672413a3",
   "metadata": {},
   "outputs": [],
   "source": [
    "df= df.drop(\"TARGET\", axis=1)"
   ]
  },
  {
   "cell_type": "code",
   "execution_count": 12,
   "id": "76b1394f-d3e2-467e-b1d5-f10fa1ba2751",
   "metadata": {},
   "outputs": [],
   "source": [
    "X = df"
   ]
  },
  {
   "cell_type": "markdown",
   "id": "11a0b9fc-eccc-4dcd-8fa5-e264bd34fb78",
   "metadata": {},
   "source": [
    "## Gestion des valeurs manquantes"
   ]
  },
  {
   "cell_type": "code",
   "execution_count": 13,
   "id": "7de13136-5542-479b-856d-c31d42772fc2",
   "metadata": {},
   "outputs": [],
   "source": [
    "ratio_nas = X.isna().sum()/df.shape[0]"
   ]
  },
  {
   "cell_type": "code",
   "execution_count": 14,
   "id": "7f4448d6-1534-45bc-a700-aece4a15fa58",
   "metadata": {},
   "outputs": [],
   "source": [
    "useful_columns_less_than_ratio = ratio_nas[ratio_nas<0.1].index"
   ]
  },
  {
   "cell_type": "code",
   "execution_count": 15,
   "id": "7cbc08bc-e7f1-438f-932e-8a669c538929",
   "metadata": {},
   "outputs": [],
   "source": [
    "X = X[useful_columns_less_than_ratio]"
   ]
  },
  {
   "cell_type": "code",
   "execution_count": 16,
   "id": "8959a051-60dc-4001-be4d-d801ae56a411",
   "metadata": {},
   "outputs": [
    {
     "data": {
      "text/plain": [
       "(307507, 440)"
      ]
     },
     "execution_count": 16,
     "metadata": {},
     "output_type": "execute_result"
    }
   ],
   "source": [
    "X.shape"
   ]
  },
  {
   "cell_type": "code",
   "execution_count": 17,
   "id": "c00f4b70-c475-4723-b011-090aebb6bc19",
   "metadata": {},
   "outputs": [
    {
     "name": "stderr",
     "output_type": "stream",
     "text": [
      "/tmp/ipykernel_16825/945184741.py:1: SettingWithCopyWarning: \n",
      "A value is trying to be set on a copy of a slice from a DataFrame.\n",
      "Try using .loc[row_indexer,col_indexer] = value instead\n",
      "\n",
      "See the caveats in the documentation: https://pandas.pydata.org/pandas-docs/stable/user_guide/indexing.html#returning-a-view-versus-a-copy\n",
      "  X[~np.isfinite(X)] = np.nan\n",
      "/home/eol/anaconda3/lib/python3.9/site-packages/pandas/core/frame.py:3718: SettingWithCopyWarning: \n",
      "A value is trying to be set on a copy of a slice from a DataFrame\n",
      "\n",
      "See the caveats in the documentation: https://pandas.pydata.org/pandas-docs/stable/user_guide/indexing.html#returning-a-view-versus-a-copy\n",
      "  self._where(-key, value, inplace=True)\n"
     ]
    }
   ],
   "source": [
    "X[~np.isfinite(X)] = np.nan"
   ]
  },
  {
   "cell_type": "code",
   "execution_count": 18,
   "id": "80aab865-2686-456c-8af4-173535bc2a61",
   "metadata": {},
   "outputs": [],
   "source": [
    "imputer = SimpleImputer(strategy=\"median\")"
   ]
  },
  {
   "cell_type": "code",
   "execution_count": 19,
   "id": "b4161410-0431-43c3-8f03-9cbb722ebc0d",
   "metadata": {},
   "outputs": [],
   "source": [
    "columns_keep = X.columns"
   ]
  },
  {
   "cell_type": "code",
   "execution_count": 20,
   "id": "bf513cdc-e515-4fce-902a-dd6a1e9f0fec",
   "metadata": {},
   "outputs": [],
   "source": [
    "X = imputer.fit_transform(X)"
   ]
  },
  {
   "cell_type": "code",
   "execution_count": 21,
   "id": "03f58cf1-2f55-465f-8abf-e51c9138807b",
   "metadata": {},
   "outputs": [],
   "source": [
    "X = pd.DataFrame(X, columns=columns_keep)"
   ]
  },
  {
   "cell_type": "markdown",
   "id": "bb1ced13-4420-46ca-883a-5dd477277bb1",
   "metadata": {},
   "source": [
    "## Gestion des outliers"
   ]
  },
  {
   "cell_type": "markdown",
   "id": "a2468cdf-ba58-42cb-b2d9-115b860a3016",
   "metadata": {},
   "source": [
    "## Equilibrage des classes"
   ]
  },
  {
   "cell_type": "markdown",
   "id": "0259e748-3f8b-4fb2-80be-f568b8507b90",
   "metadata": {},
   "source": [
    "X### Nous allons utiliser SMOTE pour générer un équilibre des classes"
   ]
  },
  {
   "cell_type": "code",
   "execution_count": 27,
   "id": "8b198cd5-3328-41ff-8194-4f3078cd4d1a",
   "metadata": {},
   "outputs": [
    {
     "data": {
      "text/plain": [
       "(307507, 440)"
      ]
     },
     "execution_count": 27,
     "metadata": {},
     "output_type": "execute_result"
    }
   ],
   "source": [
    "X.shape"
   ]
  },
  {
   "cell_type": "code",
   "execution_count": null,
   "id": "8d0de6d3-c659-4891-904a-e8904b1f170a",
   "metadata": {},
   "outputs": [],
   "source": [
    "### train test split, fit smote sur X_train, Y_train\n",
    "### to_csv des 4 fichiers X_train, Y_train, X_test, Y_test"
   ]
  },
  {
   "cell_type": "code",
   "execution_count": 24,
   "id": "0a61256b-c503-4bb1-97b5-8c2abbb63a1f",
   "metadata": {},
   "outputs": [
    {
     "ename": "NameError",
     "evalue": "name 'Counter' is not defined",
     "output_type": "error",
     "traceback": [
      "\u001b[0;31m---------------------------------------------------------------------------\u001b[0m",
      "\u001b[0;31mNameError\u001b[0m                                 Traceback (most recent call last)",
      "\u001b[0;32m/tmp/ipykernel_16825/2786219300.py\u001b[0m in \u001b[0;36m<module>\u001b[0;34m\u001b[0m\n\u001b[1;32m      1\u001b[0m \u001b[0msm\u001b[0m \u001b[0;34m=\u001b[0m \u001b[0mSMOTE\u001b[0m\u001b[0;34m(\u001b[0m\u001b[0mrandom_state\u001b[0m\u001b[0;34m=\u001b[0m\u001b[0;36m42\u001b[0m\u001b[0;34m)\u001b[0m\u001b[0;34m\u001b[0m\u001b[0;34m\u001b[0m\u001b[0m\n\u001b[1;32m      2\u001b[0m \u001b[0mX_res\u001b[0m\u001b[0;34m,\u001b[0m \u001b[0my_res\u001b[0m \u001b[0;34m=\u001b[0m \u001b[0msm\u001b[0m\u001b[0;34m.\u001b[0m\u001b[0mfit_resample\u001b[0m\u001b[0;34m(\u001b[0m\u001b[0mX\u001b[0m\u001b[0;34m,\u001b[0m \u001b[0mY\u001b[0m\u001b[0;34m)\u001b[0m\u001b[0;34m\u001b[0m\u001b[0;34m\u001b[0m\u001b[0m\n\u001b[0;32m----> 3\u001b[0;31m \u001b[0mprint\u001b[0m\u001b[0;34m(\u001b[0m\u001b[0;34m'Resampled dataset shape %s'\u001b[0m \u001b[0;34m%\u001b[0m \u001b[0mCounter\u001b[0m\u001b[0;34m(\u001b[0m\u001b[0my_res\u001b[0m\u001b[0;34m)\u001b[0m\u001b[0;34m)\u001b[0m\u001b[0;34m\u001b[0m\u001b[0;34m\u001b[0m\u001b[0m\n\u001b[0m",
      "\u001b[0;31mNameError\u001b[0m: name 'Counter' is not defined"
     ]
    }
   ],
   "source": [
    "sm = SMOTE(random_state=42)\n",
    "X_res, y_res = sm.fit_resample(X, Y)"
   ]
  },
  {
   "cell_type": "code",
   "execution_count": null,
   "id": "41bc5f24-4fa3-413e-8728-be6efaecc06e",
   "metadata": {},
   "outputs": [],
   "source": [
    "from sklearn.preprocessing import StandardScaler\n",
    "scaler = StandardScaler()\n",
    "scaler = scaler.fit(X_res)\n",
    "X = scaler.transform(X_res)"
   ]
  },
  {
   "cell_type": "code",
   "execution_count": 32,
   "id": "c6c44088-f569-4f43-b46e-a00fa7cf14af",
   "metadata": {},
   "outputs": [
    {
     "ename": "NameError",
     "evalue": "name 'Y_res' is not defined",
     "output_type": "error",
     "traceback": [
      "\u001b[0;31m---------------------------------------------------------------------------\u001b[0m",
      "\u001b[0;31mNameError\u001b[0m                                 Traceback (most recent call last)",
      "\u001b[0;32m/tmp/ipykernel_16825/705260569.py\u001b[0m in \u001b[0;36m<module>\u001b[0;34m\u001b[0m\n\u001b[1;32m      1\u001b[0m \u001b[0mX_res\u001b[0m\u001b[0;34m.\u001b[0m\u001b[0mto_csv\u001b[0m\u001b[0;34m(\u001b[0m\u001b[0;34m\"x_clean.csv\"\u001b[0m\u001b[0;34m)\u001b[0m\u001b[0;34m\u001b[0m\u001b[0;34m\u001b[0m\u001b[0m\n\u001b[0;32m----> 2\u001b[0;31m \u001b[0mY_res\u001b[0m\u001b[0;34m.\u001b[0m\u001b[0mto_csv\u001b[0m\u001b[0;34m(\u001b[0m\u001b[0;34m\"y_clean.csv\"\u001b[0m\u001b[0;34m)\u001b[0m\u001b[0;34m\u001b[0m\u001b[0;34m\u001b[0m\u001b[0m\n\u001b[0m",
      "\u001b[0;31mNameError\u001b[0m: name 'Y_res' is not defined"
     ]
    }
   ],
   "source": [
    "X_res.to_csv(\"x_clean.csv\", index=False)\n"
   ]
  },
  {
   "cell_type": "code",
   "execution_count": 33,
   "id": "3ed44639-b93d-431f-b5c3-9277d8015cdb",
   "metadata": {},
   "outputs": [],
   "source": [
    "y_res.to_csv(\"y_clean.csv\", index=False)"
   ]
  }
 ],
 "metadata": {
  "kernelspec": {
   "display_name": "Python 3 (ipykernel)",
   "language": "python",
   "name": "python3"
  },
  "language_info": {
   "codemirror_mode": {
    "name": "ipython",
    "version": 3
   },
   "file_extension": ".py",
   "mimetype": "text/x-python",
   "name": "python",
   "nbconvert_exporter": "python",
   "pygments_lexer": "ipython3",
   "version": "3.9.7"
  },
  "toc-autonumbering": true
 },
 "nbformat": 4,
 "nbformat_minor": 5
}
