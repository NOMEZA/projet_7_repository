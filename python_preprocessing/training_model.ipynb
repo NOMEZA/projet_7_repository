{
 "cells": [
  {
   "cell_type": "code",
   "execution_count": 1,
   "id": "64cda722-e253-48bf-9375-69320c919f2f",
   "metadata": {},
   "outputs": [],
   "source": [
    "import numpy as np\n",
    "import pandas as pd\n",
    "import gc\n",
    "import time\n",
    "from pickle import dump\n",
    "from contextlib import contextmanager\n",
    "from lightgbm import LGBMClassifier\n",
    "from sklearn.metrics import roc_auc_score, roc_curve\n",
    "from sklearn.model_selection import KFold, StratifiedKFold\n",
    "import matplotlib.pyplot as plt\n",
    "import seaborn as sns\n",
    "import warnings\n",
    "import re\n",
    "import pickle\n",
    "from sklearn.model_selection import train_test_split"
   ]
  },
  {
   "cell_type": "code",
   "execution_count": 2,
   "id": "9072a689-aedb-4559-ac0e-e5f36617b9df",
   "metadata": {},
   "outputs": [],
   "source": [
    "df=pd.read_csv('data_useful.csv')"
   ]
  },
  {
   "cell_type": "code",
   "execution_count": 3,
   "id": "fd447ae9-747e-46f9-a76d-243803885fb7",
   "metadata": {},
   "outputs": [],
   "source": [
    "df = df.dropna()"
   ]
  },
  {
   "cell_type": "code",
   "execution_count": 4,
   "id": "45a189c4-0b6d-4fca-811e-fbaa68f29c20",
   "metadata": {},
   "outputs": [],
   "source": [
    "df= df.reset_index()"
   ]
  },
  {
   "cell_type": "code",
   "execution_count": 5,
   "id": "65620f8b-4ab1-4ff0-a882-1fb2b39cdf56",
   "metadata": {},
   "outputs": [],
   "source": [
    "df = df.drop(\"index\", axis=1)"
   ]
  },
  {
   "cell_type": "code",
   "execution_count": 6,
   "id": "6f503837-4c46-4009-b79f-700929530d66",
   "metadata": {},
   "outputs": [],
   "source": [
    "df=df.rename(columns = lambda x:re.sub('[^A-Za-z0-9_]+', '', x)) # c'est pour enlever les caractères spécifiques, est ce bien ça?"
   ]
  },
  {
   "cell_type": "code",
   "execution_count": 7,
   "id": "7c1b5199-cb57-4308-bfc1-092c761f8876",
   "metadata": {},
   "outputs": [],
   "source": [
    "df=df.drop('Unnamed0', axis=1)"
   ]
  },
  {
   "cell_type": "code",
   "execution_count": 8,
   "id": "c5b59acc-68d9-48b6-b434-8e12137c1f9c",
   "metadata": {},
   "outputs": [],
   "source": [
    "feats = [f for f in df.columns if f not in ['TARGET', 'SK_ID_CURR']]"
   ]
  },
  {
   "cell_type": "code",
   "execution_count": 9,
   "id": "f5521d7d-352a-4edb-a929-75f1a914efa7",
   "metadata": {},
   "outputs": [],
   "source": [
    "X = df[feats]"
   ]
  },
  {
   "cell_type": "code",
   "execution_count": 10,
   "id": "c427570c-954a-4836-a34e-fc5c3dac1db4",
   "metadata": {},
   "outputs": [],
   "source": [
    "Y = df[\"TARGET\"]"
   ]
  },
  {
   "cell_type": "code",
   "execution_count": 11,
   "id": "59206c1d-bd25-4af4-9e17-05a027bfc4a8",
   "metadata": {},
   "outputs": [
    {
     "data": {
      "text/plain": [
       "(98954, 9)"
      ]
     },
     "execution_count": 11,
     "metadata": {},
     "output_type": "execute_result"
    }
   ],
   "source": [
    "X.shape"
   ]
  },
  {
   "cell_type": "code",
   "execution_count": 12,
   "id": "47923ef5-f6c3-4814-8c0e-46cbe2a09f78",
   "metadata": {},
   "outputs": [
    {
     "data": {
      "text/plain": [
       "(98954,)"
      ]
     },
     "execution_count": 12,
     "metadata": {},
     "output_type": "execute_result"
    }
   ],
   "source": [
    "Y.shape"
   ]
  },
  {
   "cell_type": "code",
   "execution_count": 13,
   "id": "5d729d1a-7def-4c7f-a1f3-079fbcf81b0d",
   "metadata": {},
   "outputs": [],
   "source": [
    "X_train, X_test, y_train, y_test = train_test_split(X, Y, test_size=0.1, random_state=42)"
   ]
  },
  {
   "cell_type": "code",
   "execution_count": 14,
   "id": "4f318f4d-4290-4009-a47c-ad7c4c1bc319",
   "metadata": {},
   "outputs": [
    {
     "name": "stderr",
     "output_type": "stream",
     "text": [
      "/home/eol/anaconda3/lib/python3.9/site-packages/lightgbm/sklearn.py:598: UserWarning: 'silent' argument is deprecated and will be removed in a future release of LightGBM. Pass 'verbose' parameter via keyword arguments instead.\n",
      "  _log_warning(\"'silent' argument is deprecated and will be removed in a future release of LightGBM. \"\n",
      "/home/eol/anaconda3/lib/python3.9/site-packages/lightgbm/sklearn.py:726: UserWarning: 'early_stopping_rounds' argument is deprecated and will be removed in a future release of LightGBM. Pass 'early_stopping()' callback via 'callbacks' argument instead.\n",
      "  _log_warning(\"'early_stopping_rounds' argument is deprecated and will be removed in a future release of LightGBM. \"\n",
      "/home/eol/anaconda3/lib/python3.9/site-packages/lightgbm/sklearn.py:736: UserWarning: 'verbose' argument is deprecated and will be removed in a future release of LightGBM. Pass 'log_evaluation()' callback via 'callbacks' argument instead.\n",
      "  _log_warning(\"'verbose' argument is deprecated and will be removed in a future release of LightGBM. \"\n"
     ]
    },
    {
     "name": "stdout",
     "output_type": "stream",
     "text": [
      "[LightGBM] [Warning] num_threads is set with nthread=4, will be overridden by n_jobs=-1. Current value: num_threads=-1\n",
      "[200]\ttraining's auc: 0.790701\ttraining's binary_logloss: 0.226646\tvalid_1's auc: 0.753213\tvalid_1's binary_logloss: 0.227957\n",
      "[400]\ttraining's auc: 0.805948\ttraining's binary_logloss: 0.221248\tvalid_1's auc: 0.755877\tvalid_1's binary_logloss: 0.227368\n",
      "[600]\ttraining's auc: 0.817578\ttraining's binary_logloss: 0.217224\tvalid_1's auc: 0.756142\tvalid_1's binary_logloss: 0.227572\n"
     ]
    }
   ],
   "source": [
    "\n",
    "# LightGBM parameters found by Bayesian optimization\n",
    "clf = LGBMClassifier(\n",
    "    nthread=4,\n",
    "    n_estimators=10000,\n",
    "    learning_rate=0.02,\n",
    "    num_leaves=34,\n",
    "    colsample_bytree=0.9497036,\n",
    "    subsample=0.8715623,\n",
    "    max_depth=8,\n",
    "    reg_alpha=0.041545473,\n",
    "    reg_lambda=0.0735294,\n",
    "    min_split_gain=0.0222415,\n",
    "    min_child_weight=39.3259775,\n",
    "    silent=-1,\n",
    "    verbose=-1, )\n",
    "\n",
    "clf.fit(X_train, y_train, eval_set=[(X_train, y_train), (X_test, y_test)], \n",
    "    eval_metric= 'auc', verbose= 200, early_stopping_rounds= 200)\n",
    "\n",
    "filename = 'finalized_model.pickle'\n",
    "pickle.dump(clf, open(filename, 'wb'))\n"
   ]
  },
  {
   "cell_type": "code",
   "execution_count": 15,
   "id": "dfd4b4c5-046d-496f-8fcc-5c063fe93336",
   "metadata": {},
   "outputs": [],
   "source": [
    "def display_importances(feature_importance_df_):\n",
    "    cols = feature_importance_df_[[\"feature\", \"importance\"]].groupby(\"feature\").mean().sort_values(by=\"importance\", ascending=False)[:40].index\n",
    "    best_features = feature_importance_df_.loc[feature_importance_df_.feature.isin(cols)]\n",
    "    plt.figure(figsize=(8, 10))\n",
    "    sns.barplot(x=\"importance\", y=\"feature\", data=best_features.sort_values(by=\"importance\", ascending=False))\n",
    "    plt.title('LightGBM Features (avg over folds)')\n",
    "    plt.tight_layout()\n",
    "    plt.savefig('lgbm_importances01.png')"
   ]
  },
  {
   "cell_type": "code",
   "execution_count": 16,
   "id": "70c7a6d8-ec22-41c9-a79b-4c48d787d758",
   "metadata": {},
   "outputs": [
    {
     "data": {
      "image/png": "[encoded data removed]",
      "text/plain": [
       "<Figure size 576x720 with 1 Axes>"
      ]
     },
     "metadata": {
      "needs_background": "light"
     },
     "output_type": "display_data"
    }
   ],
   "source": [
    "\n",
    "feature_importance_df = pd.DataFrame()\n",
    "feature_importance_df[\"feature\"] = feats\n",
    "feature_importance_df[\"importance\"] = clf.feature_importances_\n",
    "gc.collect()\n",
    "# Write submission file and plot feature importance\n",
    "display_importances(feature_importance_df)"
   ]
  },
  {
   "cell_type": "code",
   "execution_count": 45,
   "id": "e18180ef-e368-4a69-83a1-d31aca3eb450",
   "metadata": {},
   "outputs": [],
   "source": [
    "feature_importance_df.to_csv(\"features.csv\")"
   ]
  },
  {
   "cell_type": "code",
   "execution_count": 46,
   "id": "317d3599-7a4d-455f-a816-591520297c96",
   "metadata": {},
   "outputs": [
    {
     "data": {
      "text/html": [
       "<div>\n",
       "<style scoped>\n",
       "    .dataframe tbody tr th:only-of-type {\n",
       "        vertical-align: middle;\n",
       "    }\n",
       "\n",
       "    .dataframe tbody tr th {\n",
       "        vertical-align: top;\n",
       "    }\n",
       "\n",
       "    .dataframe thead th {\n",
       "        text-align: right;\n",
       "    }\n",
       "</style>\n",
       "<table border=\"1\" class=\"dataframe\">\n",
       "  <thead>\n",
       "    <tr style=\"text-align: right;\">\n",
       "      <th></th>\n",
       "      <th>feature</th>\n",
       "      <th>importance</th>\n",
       "    </tr>\n",
       "  </thead>\n",
       "  <tbody>\n",
       "    <tr>\n",
       "      <th>0</th>\n",
       "      <td>EXT_SOURCE_1</td>\n",
       "      <td>1460</td>\n",
       "    </tr>\n",
       "    <tr>\n",
       "      <th>1</th>\n",
       "      <td>EXT_SOURCE_2</td>\n",
       "      <td>1426</td>\n",
       "    </tr>\n",
       "    <tr>\n",
       "      <th>2</th>\n",
       "      <td>EXT_SOURCE_3</td>\n",
       "      <td>1559</td>\n",
       "    </tr>\n",
       "    <tr>\n",
       "      <th>3</th>\n",
       "      <td>AMT_INCOME_TOTAL</td>\n",
       "      <td>928</td>\n",
       "    </tr>\n",
       "    <tr>\n",
       "      <th>4</th>\n",
       "      <td>DAYS_BIRTH</td>\n",
       "      <td>1433</td>\n",
       "    </tr>\n",
       "    <tr>\n",
       "      <th>5</th>\n",
       "      <td>AMT_CREDIT</td>\n",
       "      <td>963</td>\n",
       "    </tr>\n",
       "    <tr>\n",
       "      <th>6</th>\n",
       "      <td>AMT_ANNUITY</td>\n",
       "      <td>1044</td>\n",
       "    </tr>\n",
       "    <tr>\n",
       "      <th>7</th>\n",
       "      <td>DAYS_EMPLOYED</td>\n",
       "      <td>1189</td>\n",
       "    </tr>\n",
       "    <tr>\n",
       "      <th>8</th>\n",
       "      <td>PAYMENT_RATE</td>\n",
       "      <td>2155</td>\n",
       "    </tr>\n",
       "  </tbody>\n",
       "</table>\n",
       "</div>"
      ],
      "text/plain": [
       "            feature  importance\n",
       "0      EXT_SOURCE_1        1460\n",
       "1      EXT_SOURCE_2        1426\n",
       "2      EXT_SOURCE_3        1559\n",
       "3  AMT_INCOME_TOTAL         928\n",
       "4        DAYS_BIRTH        1433\n",
       "5        AMT_CREDIT         963\n",
       "6       AMT_ANNUITY        1044\n",
       "7     DAYS_EMPLOYED        1189\n",
       "8      PAYMENT_RATE        2155"
      ]
     },
     "execution_count": 46,
     "metadata": {},
     "output_type": "execute_result"
    }
   ],
   "source": [
    "feature_importance_df"
   ]
  },
  {
   "cell_type": "markdown",
   "id": "2b3f8666-98f8-4666-b8b8-06f291574f30",
   "metadata": {},
   "source": [
    "# Test situation réelle"
   ]
  },
  {
   "cell_type": "code",
   "execution_count": 17,
   "id": "322717c3-bf2d-43f0-86bc-9bec103eab24",
   "metadata": {},
   "outputs": [
    {
     "data": {
      "text/html": [
       "<div>\n",
       "<style scoped>\n",
       "    .dataframe tbody tr th:only-of-type {\n",
       "        vertical-align: middle;\n",
       "    }\n",
       "\n",
       "    .dataframe tbody tr th {\n",
       "        vertical-align: top;\n",
       "    }\n",
       "\n",
       "    .dataframe thead th {\n",
       "        text-align: right;\n",
       "    }\n",
       "</style>\n",
       "<table border=\"1\" class=\"dataframe\">\n",
       "  <thead>\n",
       "    <tr style=\"text-align: right;\">\n",
       "      <th></th>\n",
       "      <th>SK_ID_CURR</th>\n",
       "      <th>TARGET</th>\n",
       "      <th>EXT_SOURCE_1</th>\n",
       "      <th>EXT_SOURCE_2</th>\n",
       "      <th>EXT_SOURCE_3</th>\n",
       "      <th>AMT_INCOME_TOTAL</th>\n",
       "      <th>DAYS_BIRTH</th>\n",
       "      <th>AMT_CREDIT</th>\n",
       "      <th>AMT_ANNUITY</th>\n",
       "      <th>DAYS_EMPLOYED</th>\n",
       "      <th>PAYMENT_RATE</th>\n",
       "    </tr>\n",
       "  </thead>\n",
       "  <tbody>\n",
       "    <tr>\n",
       "      <th>0</th>\n",
       "      <td>100002</td>\n",
       "      <td>1.0</td>\n",
       "      <td>0.083037</td>\n",
       "      <td>0.262949</td>\n",
       "      <td>0.139376</td>\n",
       "      <td>202500.0</td>\n",
       "      <td>-9461</td>\n",
       "      <td>406597.5</td>\n",
       "      <td>24700.5</td>\n",
       "      <td>-637.0</td>\n",
       "      <td>0.060749</td>\n",
       "    </tr>\n",
       "    <tr>\n",
       "      <th>1</th>\n",
       "      <td>100009</td>\n",
       "      <td>0.0</td>\n",
       "      <td>0.774761</td>\n",
       "      <td>0.724000</td>\n",
       "      <td>0.492060</td>\n",
       "      <td>171000.0</td>\n",
       "      <td>-13778</td>\n",
       "      <td>1560726.0</td>\n",
       "      <td>41301.0</td>\n",
       "      <td>-3130.0</td>\n",
       "      <td>0.026463</td>\n",
       "    </tr>\n",
       "    <tr>\n",
       "      <th>2</th>\n",
       "      <td>100014</td>\n",
       "      <td>0.0</td>\n",
       "      <td>0.319760</td>\n",
       "      <td>0.651862</td>\n",
       "      <td>0.363945</td>\n",
       "      <td>112500.0</td>\n",
       "      <td>-10197</td>\n",
       "      <td>652500.0</td>\n",
       "      <td>21177.0</td>\n",
       "      <td>-679.0</td>\n",
       "      <td>0.032455</td>\n",
       "    </tr>\n",
       "    <tr>\n",
       "      <th>3</th>\n",
       "      <td>100016</td>\n",
       "      <td>0.0</td>\n",
       "      <td>0.464831</td>\n",
       "      <td>0.715042</td>\n",
       "      <td>0.176653</td>\n",
       "      <td>67500.0</td>\n",
       "      <td>-13439</td>\n",
       "      <td>80865.0</td>\n",
       "      <td>5881.5</td>\n",
       "      <td>-2717.0</td>\n",
       "      <td>0.072732</td>\n",
       "    </tr>\n",
       "    <tr>\n",
       "      <th>4</th>\n",
       "      <td>100019</td>\n",
       "      <td>0.0</td>\n",
       "      <td>0.115634</td>\n",
       "      <td>0.346634</td>\n",
       "      <td>0.678568</td>\n",
       "      <td>157500.0</td>\n",
       "      <td>-8728</td>\n",
       "      <td>299772.0</td>\n",
       "      <td>20160.0</td>\n",
       "      <td>-1157.0</td>\n",
       "      <td>0.067251</td>\n",
       "    </tr>\n",
       "    <tr>\n",
       "      <th>...</th>\n",
       "      <td>...</td>\n",
       "      <td>...</td>\n",
       "      <td>...</td>\n",
       "      <td>...</td>\n",
       "      <td>...</td>\n",
       "      <td>...</td>\n",
       "      <td>...</td>\n",
       "      <td>...</td>\n",
       "      <td>...</td>\n",
       "      <td>...</td>\n",
       "      <td>...</td>\n",
       "    </tr>\n",
       "    <tr>\n",
       "      <th>98949</th>\n",
       "      <td>456243</td>\n",
       "      <td>0.0</td>\n",
       "      <td>0.665343</td>\n",
       "      <td>0.649123</td>\n",
       "      <td>0.206779</td>\n",
       "      <td>81000.0</td>\n",
       "      <td>-16988</td>\n",
       "      <td>225000.0</td>\n",
       "      <td>12694.5</td>\n",
       "      <td>-8694.0</td>\n",
       "      <td>0.056420</td>\n",
       "    </tr>\n",
       "    <tr>\n",
       "      <th>98950</th>\n",
       "      <td>456244</td>\n",
       "      <td>0.0</td>\n",
       "      <td>0.896042</td>\n",
       "      <td>0.789389</td>\n",
       "      <td>0.337673</td>\n",
       "      <td>261000.0</td>\n",
       "      <td>-20390</td>\n",
       "      <td>1303812.0</td>\n",
       "      <td>35982.0</td>\n",
       "      <td>-5326.0</td>\n",
       "      <td>0.027598</td>\n",
       "    </tr>\n",
       "    <tr>\n",
       "      <th>98951</th>\n",
       "      <td>456247</td>\n",
       "      <td>0.0</td>\n",
       "      <td>0.243466</td>\n",
       "      <td>0.501221</td>\n",
       "      <td>0.609276</td>\n",
       "      <td>112500.0</td>\n",
       "      <td>-11870</td>\n",
       "      <td>345510.0</td>\n",
       "      <td>17770.5</td>\n",
       "      <td>-399.0</td>\n",
       "      <td>0.051433</td>\n",
       "    </tr>\n",
       "    <tr>\n",
       "      <th>98952</th>\n",
       "      <td>456253</td>\n",
       "      <td>0.0</td>\n",
       "      <td>0.744026</td>\n",
       "      <td>0.535722</td>\n",
       "      <td>0.218859</td>\n",
       "      <td>153000.0</td>\n",
       "      <td>-14966</td>\n",
       "      <td>677664.0</td>\n",
       "      <td>29979.0</td>\n",
       "      <td>-7921.0</td>\n",
       "      <td>0.044239</td>\n",
       "    </tr>\n",
       "    <tr>\n",
       "      <th>98953</th>\n",
       "      <td>456255</td>\n",
       "      <td>0.0</td>\n",
       "      <td>0.734460</td>\n",
       "      <td>0.708569</td>\n",
       "      <td>0.113922</td>\n",
       "      <td>157500.0</td>\n",
       "      <td>-16856</td>\n",
       "      <td>675000.0</td>\n",
       "      <td>49117.5</td>\n",
       "      <td>-1262.0</td>\n",
       "      <td>0.072767</td>\n",
       "    </tr>\n",
       "  </tbody>\n",
       "</table>\n",
       "<p>98954 rows × 11 columns</p>\n",
       "</div>"
      ],
      "text/plain": [
       "       SK_ID_CURR  TARGET  EXT_SOURCE_1  EXT_SOURCE_2  EXT_SOURCE_3  \\\n",
       "0          100002     1.0      0.083037      0.262949      0.139376   \n",
       "1          100009     0.0      0.774761      0.724000      0.492060   \n",
       "2          100014     0.0      0.319760      0.651862      0.363945   \n",
       "3          100016     0.0      0.464831      0.715042      0.176653   \n",
       "4          100019     0.0      0.115634      0.346634      0.678568   \n",
       "...           ...     ...           ...           ...           ...   \n",
       "98949      456243     0.0      0.665343      0.649123      0.206779   \n",
       "98950      456244     0.0      0.896042      0.789389      0.337673   \n",
       "98951      456247     0.0      0.243466      0.501221      0.609276   \n",
       "98952      456253     0.0      0.744026      0.535722      0.218859   \n",
       "98953      456255     0.0      0.734460      0.708569      0.113922   \n",
       "\n",
       "       AMT_INCOME_TOTAL  DAYS_BIRTH  AMT_CREDIT  AMT_ANNUITY  DAYS_EMPLOYED  \\\n",
       "0              202500.0       -9461    406597.5      24700.5         -637.0   \n",
       "1              171000.0      -13778   1560726.0      41301.0        -3130.0   \n",
       "2              112500.0      -10197    652500.0      21177.0         -679.0   \n",
       "3               67500.0      -13439     80865.0       5881.5        -2717.0   \n",
       "4              157500.0       -8728    299772.0      20160.0        -1157.0   \n",
       "...                 ...         ...         ...          ...            ...   \n",
       "98949           81000.0      -16988    225000.0      12694.5        -8694.0   \n",
       "98950          261000.0      -20390   1303812.0      35982.0        -5326.0   \n",
       "98951          112500.0      -11870    345510.0      17770.5         -399.0   \n",
       "98952          153000.0      -14966    677664.0      29979.0        -7921.0   \n",
       "98953          157500.0      -16856    675000.0      49117.5        -1262.0   \n",
       "\n",
       "       PAYMENT_RATE  \n",
       "0          0.060749  \n",
       "1          0.026463  \n",
       "2          0.032455  \n",
       "3          0.072732  \n",
       "4          0.067251  \n",
       "...             ...  \n",
       "98949      0.056420  \n",
       "98950      0.027598  \n",
       "98951      0.051433  \n",
       "98952      0.044239  \n",
       "98953      0.072767  \n",
       "\n",
       "[98954 rows x 11 columns]"
      ]
     },
     "execution_count": 17,
     "metadata": {},
     "output_type": "execute_result"
    }
   ],
   "source": [
    "df"
   ]
  },
  {
   "cell_type": "code",
   "execution_count": 23,
   "id": "98c28bbe-38a6-4236-a547-3c3beecd6eae",
   "metadata": {},
   "outputs": [],
   "source": [
    "data_project = df.iloc[X_test.index].drop(\"TARGET\", axis=1)\n",
    "data_project = data_project.reset_index()\n",
    "data_project = data_project.drop(\"index\", axis=1)\n",
    "data_project.to_csv(\"data_test_project.csv\", index=False)"
   ]
  },
  {
   "cell_type": "code",
   "execution_count": 35,
   "id": "36d8d67c-f487-4c21-8dde-31efc700f15d",
   "metadata": {},
   "outputs": [
    {
     "data": {
      "text/html": [
       "<div>\n",
       "<style scoped>\n",
       "    .dataframe tbody tr th:only-of-type {\n",
       "        vertical-align: middle;\n",
       "    }\n",
       "\n",
       "    .dataframe tbody tr th {\n",
       "        vertical-align: top;\n",
       "    }\n",
       "\n",
       "    .dataframe thead th {\n",
       "        text-align: right;\n",
       "    }\n",
       "</style>\n",
       "<table border=\"1\" class=\"dataframe\">\n",
       "  <thead>\n",
       "    <tr style=\"text-align: right;\">\n",
       "      <th></th>\n",
       "      <th>SK_ID_CURR</th>\n",
       "      <th>EXT_SOURCE_1</th>\n",
       "      <th>EXT_SOURCE_2</th>\n",
       "      <th>EXT_SOURCE_3</th>\n",
       "      <th>AMT_INCOME_TOTAL</th>\n",
       "      <th>DAYS_BIRTH</th>\n",
       "      <th>AMT_CREDIT</th>\n",
       "      <th>AMT_ANNUITY</th>\n",
       "      <th>DAYS_EMPLOYED</th>\n",
       "      <th>PAYMENT_RATE</th>\n",
       "    </tr>\n",
       "  </thead>\n",
       "  <tbody>\n",
       "    <tr>\n",
       "      <th>0</th>\n",
       "      <td>193423</td>\n",
       "      <td>0.686843</td>\n",
       "      <td>0.636178</td>\n",
       "      <td>0.591977</td>\n",
       "      <td>270000.0</td>\n",
       "      <td>-12478</td>\n",
       "      <td>675000.0</td>\n",
       "      <td>34596.0</td>\n",
       "      <td>-456.0</td>\n",
       "      <td>0.051253</td>\n",
       "    </tr>\n",
       "    <tr>\n",
       "      <th>1</th>\n",
       "      <td>111767</td>\n",
       "      <td>0.257178</td>\n",
       "      <td>0.556938</td>\n",
       "      <td>0.396220</td>\n",
       "      <td>157500.0</td>\n",
       "      <td>-11052</td>\n",
       "      <td>247500.0</td>\n",
       "      <td>6804.0</td>\n",
       "      <td>-3238.0</td>\n",
       "      <td>0.027491</td>\n",
       "    </tr>\n",
       "    <tr>\n",
       "      <th>2</th>\n",
       "      <td>146581</td>\n",
       "      <td>0.373096</td>\n",
       "      <td>0.659067</td>\n",
       "      <td>0.610991</td>\n",
       "      <td>180000.0</td>\n",
       "      <td>-13791</td>\n",
       "      <td>495216.0</td>\n",
       "      <td>33628.5</td>\n",
       "      <td>-5028.0</td>\n",
       "      <td>0.067907</td>\n",
       "    </tr>\n",
       "    <tr>\n",
       "      <th>3</th>\n",
       "      <td>348268</td>\n",
       "      <td>0.277474</td>\n",
       "      <td>0.195891</td>\n",
       "      <td>0.513694</td>\n",
       "      <td>90000.0</td>\n",
       "      <td>-9017</td>\n",
       "      <td>247275.0</td>\n",
       "      <td>19953.0</td>\n",
       "      <td>-252.0</td>\n",
       "      <td>0.080692</td>\n",
       "    </tr>\n",
       "    <tr>\n",
       "      <th>4</th>\n",
       "      <td>289527</td>\n",
       "      <td>0.735926</td>\n",
       "      <td>0.798341</td>\n",
       "      <td>0.591977</td>\n",
       "      <td>193500.0</td>\n",
       "      <td>-15974</td>\n",
       "      <td>270000.0</td>\n",
       "      <td>13500.0</td>\n",
       "      <td>-651.0</td>\n",
       "      <td>0.050000</td>\n",
       "    </tr>\n",
       "    <tr>\n",
       "      <th>...</th>\n",
       "      <td>...</td>\n",
       "      <td>...</td>\n",
       "      <td>...</td>\n",
       "      <td>...</td>\n",
       "      <td>...</td>\n",
       "      <td>...</td>\n",
       "      <td>...</td>\n",
       "      <td>...</td>\n",
       "      <td>...</td>\n",
       "      <td>...</td>\n",
       "    </tr>\n",
       "    <tr>\n",
       "      <th>9891</th>\n",
       "      <td>243116</td>\n",
       "      <td>0.604949</td>\n",
       "      <td>0.670272</td>\n",
       "      <td>0.483050</td>\n",
       "      <td>67500.0</td>\n",
       "      <td>-10756</td>\n",
       "      <td>298728.0</td>\n",
       "      <td>15381.0</td>\n",
       "      <td>-3668.0</td>\n",
       "      <td>0.051488</td>\n",
       "    </tr>\n",
       "    <tr>\n",
       "      <th>9892</th>\n",
       "      <td>256735</td>\n",
       "      <td>0.553556</td>\n",
       "      <td>0.319849</td>\n",
       "      <td>0.535276</td>\n",
       "      <td>81000.0</td>\n",
       "      <td>-11793</td>\n",
       "      <td>454500.0</td>\n",
       "      <td>44406.0</td>\n",
       "      <td>-1355.0</td>\n",
       "      <td>0.097703</td>\n",
       "    </tr>\n",
       "    <tr>\n",
       "      <th>9893</th>\n",
       "      <td>152136</td>\n",
       "      <td>0.526045</td>\n",
       "      <td>0.258309</td>\n",
       "      <td>0.718033</td>\n",
       "      <td>112500.0</td>\n",
       "      <td>-12479</td>\n",
       "      <td>675000.0</td>\n",
       "      <td>32602.5</td>\n",
       "      <td>-2002.0</td>\n",
       "      <td>0.048300</td>\n",
       "    </tr>\n",
       "    <tr>\n",
       "      <th>9894</th>\n",
       "      <td>447582</td>\n",
       "      <td>0.610064</td>\n",
       "      <td>0.709899</td>\n",
       "      <td>0.622922</td>\n",
       "      <td>67500.0</td>\n",
       "      <td>-10457</td>\n",
       "      <td>202500.0</td>\n",
       "      <td>10125.0</td>\n",
       "      <td>-1304.0</td>\n",
       "      <td>0.050000</td>\n",
       "    </tr>\n",
       "    <tr>\n",
       "      <th>9895</th>\n",
       "      <td>107166</td>\n",
       "      <td>0.638753</td>\n",
       "      <td>0.652001</td>\n",
       "      <td>0.217629</td>\n",
       "      <td>225000.0</td>\n",
       "      <td>-14504</td>\n",
       "      <td>270000.0</td>\n",
       "      <td>13500.0</td>\n",
       "      <td>-666.0</td>\n",
       "      <td>0.050000</td>\n",
       "    </tr>\n",
       "  </tbody>\n",
       "</table>\n",
       "<p>9896 rows × 10 columns</p>\n",
       "</div>"
      ],
      "text/plain": [
       "      SK_ID_CURR  EXT_SOURCE_1  EXT_SOURCE_2  EXT_SOURCE_3  AMT_INCOME_TOTAL  \\\n",
       "0         193423      0.686843      0.636178      0.591977          270000.0   \n",
       "1         111767      0.257178      0.556938      0.396220          157500.0   \n",
       "2         146581      0.373096      0.659067      0.610991          180000.0   \n",
       "3         348268      0.277474      0.195891      0.513694           90000.0   \n",
       "4         289527      0.735926      0.798341      0.591977          193500.0   \n",
       "...          ...           ...           ...           ...               ...   \n",
       "9891      243116      0.604949      0.670272      0.483050           67500.0   \n",
       "9892      256735      0.553556      0.319849      0.535276           81000.0   \n",
       "9893      152136      0.526045      0.258309      0.718033          112500.0   \n",
       "9894      447582      0.610064      0.709899      0.622922           67500.0   \n",
       "9895      107166      0.638753      0.652001      0.217629          225000.0   \n",
       "\n",
       "      DAYS_BIRTH  AMT_CREDIT  AMT_ANNUITY  DAYS_EMPLOYED  PAYMENT_RATE  \n",
       "0         -12478    675000.0      34596.0         -456.0      0.051253  \n",
       "1         -11052    247500.0       6804.0        -3238.0      0.027491  \n",
       "2         -13791    495216.0      33628.5        -5028.0      0.067907  \n",
       "3          -9017    247275.0      19953.0         -252.0      0.080692  \n",
       "4         -15974    270000.0      13500.0         -651.0      0.050000  \n",
       "...          ...         ...          ...            ...           ...  \n",
       "9891      -10756    298728.0      15381.0        -3668.0      0.051488  \n",
       "9892      -11793    454500.0      44406.0        -1355.0      0.097703  \n",
       "9893      -12479    675000.0      32602.5        -2002.0      0.048300  \n",
       "9894      -10457    202500.0      10125.0        -1304.0      0.050000  \n",
       "9895      -14504    270000.0      13500.0         -666.0      0.050000  \n",
       "\n",
       "[9896 rows x 10 columns]"
      ]
     },
     "execution_count": 35,
     "metadata": {},
     "output_type": "execute_result"
    }
   ],
   "source": [
    "data_project"
   ]
  },
  {
   "cell_type": "code",
   "execution_count": 24,
   "id": "e330d8b6-254d-4094-99ef-cc2f7fcf547c",
   "metadata": {},
   "outputs": [],
   "source": [
    "with open('finalized_model.pickle', 'rb') as handle:\n",
    "    model= pickle.load(handle)"
   ]
  },
  {
   "cell_type": "code",
   "execution_count": 26,
   "id": "8856e74a-44d7-43a5-908e-c1ccdbb3565f",
   "metadata": {},
   "outputs": [],
   "source": [
    "df_api = pd.read_csv(\"data_test_project.csv\")"
   ]
  },
  {
   "cell_type": "code",
   "execution_count": 28,
   "id": "591562fb-dcee-4a8e-8dc3-f64a4559ace3",
   "metadata": {},
   "outputs": [],
   "source": [
    "df_api = df_api.set_index(\"SK_ID_CURR\")"
   ]
  },
  {
   "cell_type": "code",
   "execution_count": 31,
   "id": "5119043d-92bb-4486-8ea7-cb5a3c5b9ad0",
   "metadata": {},
   "outputs": [],
   "source": [
    "donnes_utilisateur = df_api.loc[193423]"
   ]
  },
  {
   "cell_type": "code",
   "execution_count": 34,
   "id": "a88b1f71-e6f5-48bd-bdc0-ca491308cafd",
   "metadata": {},
   "outputs": [],
   "source": [
    "prediction = model.predict_proba(np.array(donnes_utilisateur).reshape(1, -1)) # echantillon de 10 et 50"
   ]
  },
  {
   "cell_type": "code",
   "execution_count": 37,
   "id": "e1d56b44-c01d-41cf-ab44-13a43ec5946f",
   "metadata": {},
   "outputs": [
    {
     "data": {
      "text/plain": [
       "array([ 6.86843174e-01,  6.36177554e-01,  5.91976618e-01,  2.70000000e+05,\n",
       "       -1.24780000e+04,  6.75000000e+05,  3.45960000e+04, -4.56000000e+02,\n",
       "        5.12533333e-02])"
      ]
     },
     "execution_count": 37,
     "metadata": {},
     "output_type": "execute_result"
    }
   ],
   "source": [
    "np.array(donnes_utilisateur)"
   ]
  },
  {
   "cell_type": "code",
   "execution_count": 36,
   "id": "8fd9062c-30e9-4e43-af2c-b3dffc558488",
   "metadata": {},
   "outputs": [
    {
     "data": {
      "text/plain": [
       "array([[ 6.86843174e-01],\n",
       "       [ 6.36177554e-01],\n",
       "       [ 5.91976618e-01],\n",
       "       [ 2.70000000e+05],\n",
       "       [-1.24780000e+04],\n",
       "       [ 6.75000000e+05],\n",
       "       [ 3.45960000e+04],\n",
       "       [-4.56000000e+02],\n",
       "       [ 5.12533333e-02]])"
      ]
     },
     "execution_count": 38,
     "metadata": {},
     "output_type": "execute_result"
    }
   ],
   "source": [
    "np.array(donnes_utilisateur).reshape(1, -1)"
   ]
  },
  {
   "cell_type": "code",
   "execution_count": 43,
   "id": "e9627361-1801-4dc6-af6c-de420407c783",
   "metadata": {},
   "outputs": [
    {
     "data": {
      "text/plain": [
       "array([0.97805084, 0.02194916])"
      ]
     },
     "execution_count": 43,
     "metadata": {},
     "output_type": "execute_result"
    }
   ],
   "source": [
    "prediction[0]"
   ]
  },
  {
   "cell_type": "code",
   "execution_count": null,
   "id": "b98da4ca-55c2-46d2-9833-50b2be0ad151",
   "metadata": {},
   "outputs": [],
   "source": []
  }
 ],
 "metadata": {
  "kernelspec": {
   "display_name": "Python 3 (ipykernel)",
   "language": "python",
   "name": "python3"
  },
  "language_info": {
   "codemirror_mode": {
    "name": "ipython",
    "version": 3
   },
   "file_extension": ".py",
   "mimetype": "text/x-python",
   "name": "python",
   "nbconvert_exporter": "python",
   "pygments_lexer": "ipython3",
   "version": "3.9.7"
  }
 },
 "nbformat": 4,
 "nbformat_minor": 5
}
