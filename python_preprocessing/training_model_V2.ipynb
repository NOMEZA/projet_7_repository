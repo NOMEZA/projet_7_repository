{
 "cells": [
  {
   "cell_type": "code",
   "execution_count": 1,
   "id": "4c8f3a88-7410-42eb-949c-c4796cb8d081",
   "metadata": {},
   "outputs": [],
   "source": [
    "import numpy as np\n",
    "import pandas as pd\n",
    "import gc\n",
    "import time\n",
    "from pickle import dump\n",
    "from contextlib import contextmanager\n",
    "from lightgbm import LGBMClassifier\n",
    "from sklearn.metrics import roc_auc_score, roc_curve\n",
    "from sklearn.model_selection import KFold, StratifiedKFold\n",
    "import matplotlib.pyplot as plt\n",
    "import seaborn as sns\n",
    "import warnings\n",
    "import re\n",
    "import pickle\n",
    "from sklearn.model_selection import train_test_split\n",
    "from sklearn import metrics\n",
    "from sklearn.metrics import roc_curve, auc\n",
    "from sklearn.metrics import plot_confusion_matrix\n",
    "from sklearn.metrics import precision_recall_fscore_support\n",
    "from matplotlib.colors import ListedColormap\n",
    "from sklearn.model_selection import train_test_split\n",
    "from sklearn.preprocessing import StandardScaler\n",
    "from sklearn.datasets import make_moons, make_circles, make_classification\n",
    "from sklearn.neural_network import MLPClassifier\n",
    "from sklearn.neighbors import KNeighborsClassifier\n",
    "from sklearn.svm import SVC\n",
    "from sklearn.metrics import make_scorer\n",
    "from sklearn.gaussian_process import GaussianProcessClassifier\n",
    "from sklearn.gaussian_process.kernels import RBF\n",
    "from sklearn.tree import DecisionTreeClassifier\n",
    "from sklearn.ensemble import RandomForestClassifier, AdaBoostClassifier\n",
    "from sklearn.naive_bayes import GaussianNB\n",
    "from sklearn.discriminant_analysis import QuadraticDiscriminantAnalysis\n",
    "from sklearn.inspection import DecisionBoundaryDisplay\n",
    "from imblearn.over_sampling import SMOTE \n",
    "from sklearn.impute import KNNImputer, SimpleImputer\n",
    "from sklearn.metrics import confusion_matrix\n",
    "from sklearn.model_selection import GridSearchCV\n",
    "from imblearn.over_sampling import SMOTE \n",
    "from imblearn.under_sampling import NearMiss"
   ]
  },
  {
   "cell_type": "code",
   "execution_count": 2,
   "id": "c8333bcc-75b6-4218-8634-c75049abf3be",
   "metadata": {},
   "outputs": [],
   "source": [
    "X = pd.read_csv(\"X_clean.csv\")\n",
    "Y = pd.read_csv(\"Y_clean.csv\")"
   ]
  },
  {
   "cell_type": "code",
   "execution_count": 3,
   "id": "89557ee4-cec2-4459-bd32-086e9b4a4f40",
   "metadata": {},
   "outputs": [],
   "source": [
    "Y = Y[\"TARGET\"]"
   ]
  },
  {
   "cell_type": "code",
   "execution_count": 4,
   "id": "6fbba44b-6d72-4286-b697-314663ccd910",
   "metadata": {},
   "outputs": [
    {
     "data": {
      "text/plain": [
       "(307507, 507)"
      ]
     },
     "execution_count": 4,
     "metadata": {},
     "output_type": "execute_result"
    }
   ],
   "source": [
    "X.shape"
   ]
  },
  {
   "cell_type": "code",
   "execution_count": 6,
   "id": "c9995107-b59d-4c86-a9a9-d5b952ce68f7",
   "metadata": {},
   "outputs": [
    {
     "data": {
      "text/plain": [
       "(307507,)"
      ]
     },
     "execution_count": 6,
     "metadata": {},
     "output_type": "execute_result"
    }
   ],
   "source": [
    "Y.shape"
   ]
  },
  {
   "cell_type": "code",
   "execution_count": 7,
   "id": "d48bac3f-7fb9-476b-88d5-71280c6a7a26",
   "metadata": {},
   "outputs": [],
   "source": [
    "X = X.rename(columns = lambda x:re.sub('[^A-Za-z0-9_]+', '', x))"
   ]
  },
  {
   "cell_type": "markdown",
   "id": "8ba774bb-4caf-44fa-b5b6-cd5e287c8c25",
   "metadata": {},
   "source": [
    "## Select important features"
   ]
  },
  {
   "cell_type": "code",
   "execution_count": 8,
   "id": "2e0b1dfa-ee5e-4415-80ef-07f72c2b00ef",
   "metadata": {},
   "outputs": [],
   "source": [
    "from sklearn.linear_model import LogisticRegression, Perceptron\n",
    "import lime\n",
    "from lime import lime_tabular\n",
    "import shap"
   ]
  },
  {
   "cell_type": "code",
   "execution_count": 9,
   "id": "d6ab1081-2ad2-4319-bf34-38f0d432e8c3",
   "metadata": {},
   "outputs": [],
   "source": [
    "#X_train, X_test, Y_train, Y_test = train_test_split(X, Y, test_size=0.1, random_state=42)"
   ]
  },
  {
   "cell_type": "code",
   "execution_count": 10,
   "id": "3e70bb3d-6c1c-4e0e-860b-6cf71b23c6ee",
   "metadata": {},
   "outputs": [
    {
     "name": "stderr",
     "output_type": "stream",
     "text": [
      "'silent' argument is deprecated and will be removed in a future release of LightGBM. Pass 'verbose' parameter via keyword arguments instead.\n",
      "'early_stopping_rounds' argument is deprecated and will be removed in a future release of LightGBM. Pass 'early_stopping()' callback via 'callbacks' argument instead.\n",
      "'verbose' argument is deprecated and will be removed in a future release of LightGBM. Pass 'log_evaluation()' callback via 'callbacks' argument instead.\n"
     ]
    },
    {
     "name": "stdout",
     "output_type": "stream",
     "text": [
      "[LightGBM] [Warning] num_threads is set with nthread=4, will be overridden by n_jobs=-1. Current value: num_threads=-1\n",
      "[200]\ttraining's auc: 0.806492\ttraining's binary_logloss: 0.232135\tvalid_1's auc: 0.765338\tvalid_1's binary_logloss: 0.244514\n",
      "[400]\ttraining's auc: 0.835157\ttraining's binary_logloss: 0.220169\tvalid_1's auc: 0.773044\tvalid_1's binary_logloss: 0.241533\n",
      "[600]\ttraining's auc: 0.853455\ttraining's binary_logloss: 0.21248\tvalid_1's auc: 0.775012\tvalid_1's binary_logloss: 0.240882\n",
      "[800]\ttraining's auc: 0.868937\ttraining's binary_logloss: 0.205831\tvalid_1's auc: 0.77602\tvalid_1's binary_logloss: 0.240571\n",
      "[1000]\ttraining's auc: 0.882646\ttraining's binary_logloss: 0.199644\tvalid_1's auc: 0.776257\tvalid_1's binary_logloss: 0.240534\n"
     ]
    },
    {
     "name": "stderr",
     "output_type": "stream",
     "text": [
      "'silent' argument is deprecated and will be removed in a future release of LightGBM. Pass 'verbose' parameter via keyword arguments instead.\n",
      "'early_stopping_rounds' argument is deprecated and will be removed in a future release of LightGBM. Pass 'early_stopping()' callback via 'callbacks' argument instead.\n",
      "'verbose' argument is deprecated and will be removed in a future release of LightGBM. Pass 'log_evaluation()' callback via 'callbacks' argument instead.\n"
     ]
    },
    {
     "name": "stdout",
     "output_type": "stream",
     "text": [
      "[200]\ttraining's auc: 0.803881\ttraining's binary_logloss: 0.233025\tvalid_1's auc: 0.766513\tvalid_1's binary_logloss: 0.244112\n",
      "[400]\ttraining's auc: 0.832005\ttraining's binary_logloss: 0.221444\tvalid_1's auc: 0.77491\tvalid_1's binary_logloss: 0.240856\n",
      "[600]\ttraining's auc: 0.851488\ttraining's binary_logloss: 0.213416\tvalid_1's auc: 0.777031\tvalid_1's binary_logloss: 0.240141\n",
      "[800]\ttraining's auc: 0.867998\ttraining's binary_logloss: 0.206324\tvalid_1's auc: 0.777947\tvalid_1's binary_logloss: 0.239891\n",
      "[1000]\ttraining's auc: 0.881688\ttraining's binary_logloss: 0.200142\tvalid_1's auc: 0.778141\tvalid_1's binary_logloss: 0.239849\n",
      "[1200]\ttraining's auc: 0.894342\ttraining's binary_logloss: 0.194143\tvalid_1's auc: 0.777847\tvalid_1's binary_logloss: 0.23996\n"
     ]
    }
   ],
   "source": [
    "# feature_importance_df = pd.DataFrame()\n",
    "# feats = [f for f in X.columns if f not in ['TARGET','SK_ID_CURR','SK_ID_BUREAU','SK_ID_PREV','index', \"Unnamed0\"]]\n",
    "# folds = StratifiedKFold(n_splits= 2, shuffle=True, random_state=1001)\n",
    "# for n_fold, (train_idx, valid_idx) in enumerate(folds.split(X_train, Y_train)):\n",
    "#     train_x, train_y = X_train[feats].iloc[train_idx], Y_train.iloc[train_idx]\n",
    "#     valid_x, valid_y = X_train[feats].iloc[valid_idx], Y_train.iloc[valid_idx]\n",
    "\n",
    "#     # LightGBM parameters found by Bayesian optimization\n",
    "#     clf = LGBMClassifier(\n",
    "#         nthread=4,\n",
    "#         n_estimators=10000,\n",
    "#         learning_rate=0.02,\n",
    "#         num_leaves=34,\n",
    "#         colsample_bytree=0.9497036,\n",
    "#         subsample=0.8715623,\n",
    "#         max_depth=8,\n",
    "#         reg_alpha=0.041545473,\n",
    "#         reg_lambda=0.0735294,\n",
    "#         min_split_gain=0.0222415,\n",
    "#         min_child_weight=39.3259775,\n",
    "#         silent=-1,\n",
    "#         verbose=-1, )\n",
    "\n",
    "#     clf.fit(train_x, train_y, eval_set=[(train_x, train_y), (valid_x, valid_y)], \n",
    "#         eval_metric= 'auc', verbose= 200, early_stopping_rounds= 200)\n"
   ]
  },
  {
   "cell_type": "code",
   "execution_count": 11,
   "id": "5c65ee03-c797-4698-a83d-5824a7fc89a0",
   "metadata": {},
   "outputs": [],
   "source": [
    "oof_preds = np.zeros(X_train.shape[0])\n",
    "sub_preds = np.zeros(X_test.shape[0])"
   ]
  },
  {
   "cell_type": "code",
   "execution_count": 12,
   "id": "16e65aad-40f9-4d27-a062-e8c073ae6e93",
   "metadata": {},
   "outputs": [
    {
     "name": "stdout",
     "output_type": "stream",
     "text": [
      "Fold  2 AUC : 0.778221\n"
     ]
    }
   ],
   "source": [
    "oof_preds[valid_idx] = clf.predict_proba(valid_x, num_iteration=clf.best_iteration_)[:, 1]\n",
    "sub_preds += clf.predict_proba(X_test[feats], num_iteration=clf.best_iteration_)[:, 1] / folds.n_splits # pas trop compris [:, 1]\n",
    "\n",
    "fold_importance_df = pd.DataFrame()\n",
    "fold_importance_df[\"feature\"] = feats\n",
    "fold_importance_df[\"importance\"] = clf.feature_importances_\n",
    "fold_importance_df[\"fold\"] = n_fold + 1\n",
    "feature_importance_df = pd.concat([feature_importance_df, fold_importance_df], axis=0) # pas trop compris\n",
    "print('Fold %2d AUC : %.6f' % (n_fold + 1, roc_auc_score(valid_y, oof_preds[valid_idx]))) # pas trop compris"
   ]
  },
  {
   "cell_type": "code",
   "execution_count": 13,
   "id": "b7c77d17-b6af-4a4d-8c29-5de69daf1af2",
   "metadata": {},
   "outputs": [],
   "source": [
    "#oof_preds[valid_idx]"
   ]
  },
  {
   "cell_type": "code",
   "execution_count": 14,
   "id": "44c0a471-b522-48b0-b95c-ae339a8be037",
   "metadata": {},
   "outputs": [],
   "source": [
    "#sub_preds.tolist()"
   ]
  },
  {
   "cell_type": "code",
   "execution_count": 15,
   "id": "9f66628c-8db3-4b49-a181-abb075149874",
   "metadata": {},
   "outputs": [],
   "source": [
    "#fold_importance_df[\"feature\"] = feats"
   ]
  },
  {
   "cell_type": "code",
   "execution_count": 16,
   "id": "293d1157-ba94-400e-812a-3d42a593340e",
   "metadata": {},
   "outputs": [],
   "source": [
    "#fold_importance_df[\"feature\"]"
   ]
  },
  {
   "cell_type": "code",
   "execution_count": 17,
   "id": "8e5d7600-7036-41b8-9df6-687cfc707962",
   "metadata": {},
   "outputs": [],
   "source": [
    "#fold_importance_df[\"importance\"]"
   ]
  },
  {
   "cell_type": "code",
   "execution_count": 18,
   "id": "ff9a8b2d-b6bc-42db-a87d-023e96b2f9d4",
   "metadata": {},
   "outputs": [
    {
     "data": {
      "text/html": [
       "<div>\n",
       "<style scoped>\n",
       "    .dataframe tbody tr th:only-of-type {\n",
       "        vertical-align: middle;\n",
       "    }\n",
       "\n",
       "    .dataframe tbody tr th {\n",
       "        vertical-align: top;\n",
       "    }\n",
       "\n",
       "    .dataframe thead th {\n",
       "        text-align: right;\n",
       "    }\n",
       "</style>\n",
       "<table border=\"1\" class=\"dataframe\">\n",
       "  <thead>\n",
       "    <tr style=\"text-align: right;\">\n",
       "      <th></th>\n",
       "      <th>feature</th>\n",
       "      <th>importance</th>\n",
       "      <th>fold</th>\n",
       "    </tr>\n",
       "  </thead>\n",
       "  <tbody>\n",
       "    <tr>\n",
       "      <th>0</th>\n",
       "      <td>CODE_GENDER</td>\n",
       "      <td>226</td>\n",
       "      <td>2</td>\n",
       "    </tr>\n",
       "    <tr>\n",
       "      <th>1</th>\n",
       "      <td>FLAG_OWN_CAR</td>\n",
       "      <td>139</td>\n",
       "      <td>2</td>\n",
       "    </tr>\n",
       "    <tr>\n",
       "      <th>2</th>\n",
       "      <td>FLAG_OWN_REALTY</td>\n",
       "      <td>4</td>\n",
       "      <td>2</td>\n",
       "    </tr>\n",
       "    <tr>\n",
       "      <th>3</th>\n",
       "      <td>CNT_CHILDREN</td>\n",
       "      <td>18</td>\n",
       "      <td>2</td>\n",
       "    </tr>\n",
       "    <tr>\n",
       "      <th>4</th>\n",
       "      <td>AMT_INCOME_TOTAL</td>\n",
       "      <td>139</td>\n",
       "      <td>2</td>\n",
       "    </tr>\n",
       "    <tr>\n",
       "      <th>...</th>\n",
       "      <td>...</td>\n",
       "      <td>...</td>\n",
       "      <td>...</td>\n",
       "    </tr>\n",
       "    <tr>\n",
       "      <th>502</th>\n",
       "      <td>INSTAL_AMT_PAYMENT_SUM</td>\n",
       "      <td>197</td>\n",
       "      <td>2</td>\n",
       "    </tr>\n",
       "    <tr>\n",
       "      <th>503</th>\n",
       "      <td>INSTAL_DAYS_ENTRY_PAYMENT_MAX</td>\n",
       "      <td>319</td>\n",
       "      <td>2</td>\n",
       "    </tr>\n",
       "    <tr>\n",
       "      <th>504</th>\n",
       "      <td>INSTAL_DAYS_ENTRY_PAYMENT_MEAN</td>\n",
       "      <td>296</td>\n",
       "      <td>2</td>\n",
       "    </tr>\n",
       "    <tr>\n",
       "      <th>505</th>\n",
       "      <td>INSTAL_DAYS_ENTRY_PAYMENT_SUM</td>\n",
       "      <td>209</td>\n",
       "      <td>2</td>\n",
       "    </tr>\n",
       "    <tr>\n",
       "      <th>506</th>\n",
       "      <td>INSTAL_COUNT</td>\n",
       "      <td>71</td>\n",
       "      <td>2</td>\n",
       "    </tr>\n",
       "  </tbody>\n",
       "</table>\n",
       "<p>507 rows × 3 columns</p>\n",
       "</div>"
      ],
      "text/plain": [
       "                            feature  importance  fold\n",
       "0                       CODE_GENDER         226     2\n",
       "1                      FLAG_OWN_CAR         139     2\n",
       "2                   FLAG_OWN_REALTY           4     2\n",
       "3                      CNT_CHILDREN          18     2\n",
       "4                  AMT_INCOME_TOTAL         139     2\n",
       "..                              ...         ...   ...\n",
       "502          INSTAL_AMT_PAYMENT_SUM         197     2\n",
       "503   INSTAL_DAYS_ENTRY_PAYMENT_MAX         319     2\n",
       "504  INSTAL_DAYS_ENTRY_PAYMENT_MEAN         296     2\n",
       "505   INSTAL_DAYS_ENTRY_PAYMENT_SUM         209     2\n",
       "506                    INSTAL_COUNT          71     2\n",
       "\n",
       "[507 rows x 3 columns]"
      ]
     },
     "execution_count": 18,
     "metadata": {},
     "output_type": "execute_result"
    }
   ],
   "source": [
    "feature_importance_df"
   ]
  },
  {
   "cell_type": "code",
   "execution_count": 19,
   "id": "91ad79f4-e23f-4c38-aad2-873b8934f7f4",
   "metadata": {},
   "outputs": [],
   "source": [
    "def display_importances(feature_importance_df_):\n",
    "    cols = feature_importance_df_[[\"feature\", \"importance\"]].groupby(\"feature\").mean().sort_values(by=\"importance\", ascending=False)[:40].index  # à expliquer\n",
    "    best_features = feature_importance_df_.loc[feature_importance_df_.feature.isin(cols)]\n",
    "    plt.figure(figsize=(8, 10))\n",
    "    sns.barplot(x=\"importance\", y=\"feature\", data=best_features.sort_values(by=\"importance\", ascending=False))\n",
    "    plt.title('LightGBM Features (avg over folds)')\n",
    "    plt.tight_layout()\n",
    "    plt.savefig('lgbm_importances01.png')\n",
    "    return best_features.sort_values(by=\"importance\", ascending=False)"
   ]
  },
  {
   "cell_type": "code",
   "execution_count": 20,
   "id": "7ea740b0-7a8d-4974-acf6-dcc07a67bc34",
   "metadata": {},
   "outputs": [
    {
     "data": {
      "image/png": "[encoded data removed]",
      "text/plain": [
       "<Figure size 576x720 with 1 Axes>"
      ]
     },
     "metadata": {
      "needs_background": "light"
     },
     "output_type": "display_data"
    }
   ],
   "source": [
    "name_good_features = display_importances(feature_importance_df)"
   ]
  },
  {
   "cell_type": "code",
   "execution_count": 21,
   "id": "f585641e-526f-4252-9936-2867968141e0",
   "metadata": {},
   "outputs": [],
   "source": [
    "nb_features_to_keep = 100"
   ]
  },
  {
   "cell_type": "code",
   "execution_count": 22,
   "id": "add7554a-7fe9-470b-b865-94b31d94b321",
   "metadata": {},
   "outputs": [],
   "source": [
    "features_useful = list(set(name_good_features[:nb_features_to_keep][\"feature\"].values))"
   ]
  },
  {
   "cell_type": "code",
   "execution_count": 23,
   "id": "1c315ece-ad28-49ca-91ab-c4d544908dd3",
   "metadata": {},
   "outputs": [
    {
     "data": {
      "text/plain": [
       "['CODE_GENDER',\n",
       " 'APPROVED_AMT_ANNUITY_MEAN',\n",
       " 'DAYS_BIRTH',\n",
       " 'BURO_DAYS_CREDIT_MAX',\n",
       " 'APPROVED_DAYS_DECISION_MAX',\n",
       " 'PREV_CNT_PAYMENT_MEAN',\n",
       " 'PREV_APP_CREDIT_PERC_MEAN',\n",
       " 'INCOME_PER_PERSON',\n",
       " 'BURO_DAYS_CREDIT_ENDDATE_MAX',\n",
       " 'AMT_CREDIT',\n",
       " 'INSTAL_DPD_MEAN',\n",
       " 'DAYS_ID_PUBLISH',\n",
       " 'INSTAL_DAYS_ENTRY_PAYMENT_SUM',\n",
       " 'ANNUITY_INCOME_PERC',\n",
       " 'INSTAL_DAYS_ENTRY_PAYMENT_MAX',\n",
       " 'AMT_GOODS_PRICE',\n",
       " 'BURO_AMT_CREDIT_SUM_DEBT_MAX',\n",
       " 'DAYS_LAST_PHONE_CHANGE',\n",
       " 'INSTAL_DBD_SUM',\n",
       " 'DAYS_EMPLOYED_PERC',\n",
       " 'BURO_AMT_CREDIT_SUM_DEBT_MEAN',\n",
       " 'INCOME_CREDIT_PERC',\n",
       " 'PAYMENT_RATE',\n",
       " 'INSTAL_AMT_PAYMENT_MIN',\n",
       " 'APPROVED_CNT_PAYMENT_MEAN',\n",
       " 'REGION_POPULATION_RELATIVE',\n",
       " 'EXT_SOURCE_3',\n",
       " 'INSTAL_DBD_MAX',\n",
       " 'BURO_AMT_CREDIT_SUM_MEAN',\n",
       " 'BURO_AMT_CREDIT_SUM_SUM',\n",
       " 'INSTAL_DAYS_ENTRY_PAYMENT_MEAN',\n",
       " 'DAYS_REGISTRATION',\n",
       " 'AMT_ANNUITY',\n",
       " 'DAYS_EMPLOYED',\n",
       " 'BURO_DAYS_CREDIT_MEAN',\n",
       " 'PREV_DAYS_DECISION_MAX',\n",
       " 'PREV_APP_CREDIT_PERC_MIN',\n",
       " 'EXT_SOURCE_2',\n",
       " 'POS_MONTHS_BALANCE_SIZE',\n",
       " 'INSTAL_DBD_MEAN']"
      ]
     },
     "execution_count": 23,
     "metadata": {},
     "output_type": "execute_result"
    }
   ],
   "source": [
    "features_useful"
   ]
  },
  {
   "cell_type": "markdown",
   "id": "6f79a239-8d88-4ab3-8139-bc49bcf72b95",
   "metadata": {},
   "source": [
    "## reduce dataframe to useful columns"
   ]
  },
  {
   "cell_type": "code",
   "execution_count": 24,
   "id": "3498e5d1-5d83-4e92-86f2-ec3e176b2db6",
   "metadata": {},
   "outputs": [],
   "source": [
    "useful_cols = ['APPROVED_DAYS_DECISION_MAX',\n",
    " 'INSTAL_DBD_MAX',\n",
    " 'PREV_APP_CREDIT_PERC_MIN',\n",
    " 'EXT_SOURCE_2',\n",
    " 'AMT_ANNUITY',\n",
    " 'PREV_NAME_CONTRACT_STATUS_Approved_MEAN',\n",
    " 'INCOME_PER_PERSON',\n",
    " 'AMT_CREDIT',\n",
    " 'INSTAL_DAYS_ENTRY_PAYMENT_SUM',\n",
    " 'POS_SK_DPD_DEF_MEAN',\n",
    " 'PREV_APP_CREDIT_PERC_MEAN',\n",
    " 'INSTAL_DPD_MEAN',\n",
    " 'INCOME_CREDIT_PERC',\n",
    " 'ANNUITY_INCOME_PERC',\n",
    " 'PREV_DAYS_DECISION_MEAN',\n",
    " 'INSTAL_AMT_INSTALMENT_MAX',\n",
    " 'INSTAL_DBD_MEAN',\n",
    " 'PREV_APP_CREDIT_PERC_MAX',\n",
    " 'APPROVED_CNT_PAYMENT_MEAN',\n",
    " 'POS_NAME_CONTRACT_STATUS_Active_MEAN',\n",
    " 'REGION_POPULATION_RELATIVE',\n",
    " 'PREV_DAYS_DECISION_MAX',\n",
    " 'DAYS_LAST_PHONE_CHANGE',\n",
    " 'INSTAL_DBD_SUM',\n",
    " 'INSTAL_AMT_PAYMENT_MIN',\n",
    " 'APPROVED_DAYS_DECISION_MEAN',\n",
    " 'PAYMENT_RATE',\n",
    " 'AMT_GOODS_PRICE',\n",
    " 'APPROVED_AMT_ANNUITY_MEAN',\n",
    " 'DAYS_REGISTRATION',\n",
    " 'DAYS_ID_PUBLISH',\n",
    " 'INSTAL_PAYMENT_PERC_MEAN',\n",
    " 'CODE_GENDER',\n",
    " 'INSTAL_DAYS_ENTRY_PAYMENT_MAX',\n",
    " 'PREV_CNT_PAYMENT_MEAN',\n",
    " 'POS_MONTHS_BALANCE_SIZE',\n",
    " 'INSTAL_DAYS_ENTRY_PAYMENT_MEAN',\n",
    " 'INSTAL_AMT_PAYMENT_SUM',\n",
    " 'DAYS_BIRTH']"
   ]
  },
  {
   "cell_type": "code",
   "execution_count": 25,
   "id": "b52f5449-4a27-4f4f-9cb4-7d237392760b",
   "metadata": {},
   "outputs": [],
   "source": [
    "X = X[useful_cols]"
   ]
  },
  {
   "cell_type": "markdown",
   "id": "5719f0f5-cb5e-4f37-a8bd-2b0e3ce22798",
   "metadata": {},
   "source": [
    "## NearMiss - Undersampling\n",
    "https://imbalanced-learn.org/stable/under_sampling.html"
   ]
  },
  {
   "cell_type": "code",
   "execution_count": 26,
   "id": "d39b3cd4-eb9b-42b5-9d9c-55fb17cceafa",
   "metadata": {},
   "outputs": [],
   "source": [
    "# Ici, NearMiss permet de réduire la classe de 0 et ne créee pas de classe artificielle, source d'erreur dans le modèle\n",
    "nm = NearMiss()\n",
    "X, Y = nm.fit_resample(X, Y)"
   ]
  },
  {
   "cell_type": "markdown",
   "id": "0b627e0a-e52e-4f60-be26-37f81299d8d5",
   "metadata": {},
   "source": [
    "## SMOTE - Oversampling"
   ]
  },
  {
   "cell_type": "code",
   "execution_count": 27,
   "id": "10391226-e18b-4992-9a92-234e84976626",
   "metadata": {},
   "outputs": [],
   "source": [
    "# sm = SMOTE(random_state=42)\n",
    "# X_train, Y_train = sm.fit_resample(X_train, Y_train)"
   ]
  },
  {
   "cell_type": "markdown",
   "id": "a1238ca5-17b3-4672-97f0-c0f07cf7df68",
   "metadata": {},
   "source": [
    "## Create cost function"
   ]
  },
  {
   "cell_type": "code",
   "execution_count": 28,
   "id": "d26d2000-786a-49fc-9a71-37b25e8840e8",
   "metadata": {},
   "outputs": [],
   "source": [
    "def cout_metier(y_true, y_pred):\n",
    "    '''\n",
    "     plus fp est gros, plus c'est catastrophique: une erreur grave, grosse perte d'argent\n",
    "    '''\n",
    "    tn, fp, fn, tp = confusion_matrix(y_true, y_pred).ravel()\n",
    "    return fp * 10+fn"
   ]
  },
  {
   "cell_type": "code",
   "execution_count": 29,
   "id": "767d54f9-c0f6-4b17-bde4-3ab33a30d494",
   "metadata": {},
   "outputs": [],
   "source": [
    "customer_cout_metier_scorer = make_scorer(cout_metier)"
   ]
  },
  {
   "cell_type": "markdown",
   "id": "b93f9d83-d697-4a1c-bd2f-b33d0f6fd701",
   "metadata": {
    "tags": []
   },
   "source": [
    "## classif model selection"
   ]
  },
  {
   "cell_type": "code",
   "execution_count": 30,
   "id": "740a2783-417b-4fb6-95d7-18ba55f4d296",
   "metadata": {},
   "outputs": [],
   "source": [
    "# Sélection des modèles de classification\n",
    "# models = {\n",
    "#     \"Nearest Neighbors\":  KNeighborsClassifier(3),\n",
    "#     \"Linear SVM\": SVC(kernel=\"linear\", C=0.025),\n",
    "#     \"RBF SVM\": SVC(gamma=2, C=1),\n",
    "#     \"Gaussian Process\": GaussianProcessClassifier(1.0 * RBF(1.0)),\n",
    "#     \"Decision Tree\": DecisionTreeClassifier(max_depth=5),\n",
    "#     \"Random Forest\": RandomForestClassifier(max_depth=5, n_estimators=100, max_features=1),\n",
    "#     \"Neural Net\": MLPClassifier(alpha=1, max_iter=1000),\n",
    "#     \"AdaBoost\": AdaBoostClassifier(),\n",
    "#     \"Naive Bayes\": GaussianNB(),\n",
    "#     \"QDA\": QuadraticDiscriminantAnalysis()\n",
    "#     \"MLPClassifier\": MLPClassifier(alpha=1e-05, hidden_layer_sizes=(15,), random_state=1,solver='lbfgs')\n",
    "# }\n",
    "models = {\n",
    "    \"Nearest Neighbors\":  KNeighborsClassifier(3),\n",
    "    \"Linear SVM\": SVC(kernel=\"linear\", C=0.025),\n",
    "    #\"RBF SVM\": SVC(gamma=2, C=1),\n",
    "    \"Gaussian Process\": GaussianProcessClassifier(1.0 * RBF(1.0)),\n",
    "    \"Decision Tree\": DecisionTreeClassifier(max_depth=5),\n",
    "    \"Random Forest\": RandomForestClassifier(max_depth=10, n_estimators=100, max_features=1),\n",
    "    \"Neural Net\": MLPClassifier(alpha=1, max_iter=1000),\n",
    "    \"AdaBoost\": AdaBoostClassifier(),\n",
    "    \"Naive Bayes\": GaussianNB(),\n",
    "    \"QDA\": QuadraticDiscriminantAnalysis()\n",
    "}"
   ]
  },
  {
   "cell_type": "markdown",
   "id": "cef4980d-67ec-4c6a-8dc6-cd6b4158e970",
   "metadata": {},
   "source": [
    "## On entraine un gridsearch sur chaque modèle définis dans models"
   ]
  },
  {
   "cell_type": "code",
   "execution_count": 33,
   "id": "d103f58e-89e7-48d6-a844-0bc04bec0152",
   "metadata": {},
   "outputs": [],
   "source": [
    "X_train, X_test, Y_train, Y_test = train_test_split(X, Y, test_size=0.1, random_state=42)"
   ]
  },
  {
   "cell_type": "code",
   "execution_count": null,
   "id": "4deb7a8d-35db-406e-9528-bfbb59bd293e",
   "metadata": {},
   "outputs": [
    {
     "name": "stdout",
     "output_type": "stream",
     "text": [
      "Training model Nearest Neighbors\n",
      "{'mean_fit_time': array([0.01999683]), 'std_fit_time': array([0.00242212]), 'mean_score_time': array([2.48796492]), 'std_score_time': array([0.09695389]), 'params': [{}], 'split0_test_score': array([5386.]), 'split1_test_score': array([5425.]), 'split2_test_score': array([5304.]), 'split3_test_score': array([5968.]), 'split4_test_score': array([6065.]), 'mean_test_score': array([5629.6]), 'std_test_score': array([319.78280129]), 'rank_test_score': array([1], dtype=int32)}\n"
     ]
    },
    {
     "name": "stderr",
     "output_type": "stream",
     "text": [
      "Function plot_confusion_matrix is deprecated; Function `plot_confusion_matrix` is deprecated in 1.0 and will be removed in 1.2. Use one of the class methods: ConfusionMatrixDisplay.from_predictions or ConfusionMatrixDisplay.from_estimator.\n"
     ]
    },
    {
     "data": {
      "image/png": "[encoded data removed]",
      "text/plain": [
       "<Figure size 432x288 with 2 Axes>"
      ]
     },
     "metadata": {
      "needs_background": "light"
     },
     "output_type": "display_data"
    },
    {
     "name": "stdout",
     "output_type": "stream",
     "text": [
      "cout métier de l'algorithme Nearest Neighbors : 3253\n",
      "_____________\n",
      "Training model Gaussian Process\n"
     ]
    }
   ],
   "source": [
    "for name_model, m in models.items():\n",
    "    print(f\"Training model {name_model}\") \n",
    "    grid = GridSearchCV(m, {}, scoring=customer_cout_metier_scorer) \n",
    "    grid.fit(X_train, Y_train)\n",
    "    print(grid.cv_results_)\n",
    "    plot_confusion_matrix(grid.best_estimator_, X_test, Y_test)\n",
    "    y_class=grid.predict(X_test) # A préciser, on prend son score ou sa valeur prédiction???\n",
    "    plt.show()\n",
    "    print(f\"cout métier de l'algorithme {name_model} : {cout_metier(Y_test, y_class)}\")\n",
    "    print(\"_____________\")\n"
   ]
  },
  {
   "cell_type": "markdown",
   "id": "852c03f2-34db-4b03-a106-5dc36f47659f",
   "metadata": {},
   "source": [
    "## Optimize best model"
   ]
  },
  {
   "cell_type": "code",
   "execution_count": null,
   "id": "2ccceb14-c139-4a71-a71d-6bdeab1e8f52",
   "metadata": {},
   "outputs": [],
   "source": [
    "Modèle retenu avec une fonction métier le plus bas est le naive Bayes"
   ]
  },
  {
   "cell_type": "code",
   "execution_count": 30,
   "id": "a4f1e674-5978-428c-ab14-929296aead30",
   "metadata": {},
   "outputs": [
    {
     "ename": "NameError",
     "evalue": "name 'best_model' is not defined",
     "output_type": "error",
     "traceback": [
      "\u001b[0;31m---------------------------------------------------------------------------\u001b[0m",
      "\u001b[0;31mNameError\u001b[0m                                 Traceback (most recent call last)",
      "Input \u001b[0;32mIn [30]\u001b[0m, in \u001b[0;36m<cell line: 1>\u001b[0;34m()\u001b[0m\n\u001b[0;32m----> 1\u001b[0m grid \u001b[38;5;241m=\u001b[39m GridSearchCV(\u001b[43mbest_model\u001b[49m, {plage_hyperparametre}, scoring\u001b[38;5;241m=\u001b[39mcustomer_cout_metier_scorer) \n\u001b[1;32m      2\u001b[0m grid\u001b[38;5;241m.\u001b[39mfit(X_train, Y_train)\n",
      "\u001b[0;31mNameError\u001b[0m: name 'best_model' is not defined"
     ]
    }
   ],
   "source": [
    "grid = GridSearchCV(best_model, {plage_hyperparametre}, scoring=customer_cout_metier_scorer) \n",
    "grid.fit(X_train, Y_train)"
   ]
  },
  {
   "cell_type": "code",
   "execution_count": 2,
   "id": "ddf4814d-f456-4b08-96d2-53aee34f956f",
   "metadata": {},
   "outputs": [
    {
     "ename": "NameError",
     "evalue": "name 'grid' is not defined",
     "output_type": "error",
     "traceback": [
      "\u001b[0;31m---------------------------------------------------------------------------\u001b[0m",
      "\u001b[0;31mNameError\u001b[0m                                 Traceback (most recent call last)",
      "Input \u001b[0;32mIn [2]\u001b[0m, in \u001b[0;36m<cell line: 2>\u001b[0;34m()\u001b[0m\n\u001b[1;32m      1\u001b[0m \u001b[38;5;28;01mfrom\u001b[39;00m \u001b[38;5;21;01msklearn\u001b[39;00m\u001b[38;5;21;01m.\u001b[39;00m\u001b[38;5;21;01mmetrics\u001b[39;00m \u001b[38;5;28;01mimport\u001b[39;00m roc_auc_score, roc_curve\n\u001b[0;32m----> 2\u001b[0m y_pred_proba \u001b[38;5;241m=\u001b[39m \u001b[43mgrid\u001b[49m\u001b[38;5;241m.\u001b[39mpredict_proba(X_test)[::,\u001b[38;5;241m1\u001b[39m]\n\u001b[1;32m      3\u001b[0m fpr, tpr, _ \u001b[38;5;241m=\u001b[39m metrics\u001b[38;5;241m.\u001b[39mroc_curve(y_test,  y_pred_proba)\n\u001b[1;32m      5\u001b[0m \u001b[38;5;66;03m#create ROC curve of model\u001b[39;00m\n",
      "\u001b[0;31mNameError\u001b[0m: name 'grid' is not defined"
     ]
    }
   ],
   "source": [
    "from sklearn.metrics import roc_auc_score, roc_curve\n",
    "y_pred_proba = grid.predict_proba(X_test)[::,1]\n",
    "fpr, tpr, _ = metrics.roc_curve(y_test,  y_pred_proba)\n",
    "\n",
    "#create ROC curve of model\n",
    "plt.plot(fpr,tpr)\n",
    "plt.ylabel('True Positive Rate')\n",
    "plt.xlabel('False Positive Rate')\n",
    "plt.show()"
   ]
  },
  {
   "cell_type": "markdown",
   "id": "fab7d5dc-aacd-4d33-a0ef-27c480123ac7",
   "metadata": {},
   "source": [
    "## LIME - feature importance locale\n"
   ]
  },
  {
   "cell_type": "code",
   "execution_count": null,
   "id": "f21392c0-faf6-4f72-af81-6563ad374916",
   "metadata": {},
   "outputs": [],
   "source": [
    "# tester l'importance locale et flobale d'un sample de test\n",
    "# Les algos d'importance locale sont agnostiques ce qui signifie qu'ils peuvent se baser sur n'importe quel algorithme capable de faire des prédictions\n",
    "\n",
    "# Algo d'importance localime_exp.show_in_notebook(show_table=Truele, LIME\n",
    "lime_explainer = lime_tabular.LimeTabularExplainer(\n",
    "    training_data=np.array(X_train),\n",
    "    feature_names=X_train.columns,\n",
    "    mode='classification'\n",
    ")\n"
   ]
  },
  {
   "cell_type": "code",
   "execution_count": null,
   "id": "a0fc0970-c1fc-421a-9cac-31cc5c90a9b9",
   "metadata": {},
   "outputs": [],
   "source": [
    "test_1 = X_test.iloc[1]\n",
    "\n",
    "lime_exp = lime_explainer.explain_instance(\n",
    "    data_row=test_1,\n",
    "    predict_fn=grid.predict_proba\n",
    ")\n",
    "lime_exp.show_in_notebook(show_table=True)"
   ]
  },
  {
   "cell_type": "markdown",
   "id": "5f3d5c5f-df4a-4dcf-bfee-8d105302eadd",
   "metadata": {},
   "source": [
    "## SHAP - feature importance globale"
   ]
  },
  {
   "cell_type": "code",
   "execution_count": null,
   "id": "e17597a9-a078-45e2-b60d-4554789fc924",
   "metadata": {},
   "outputs": [],
   "source": [
    "# Algo d'importance globale, SHAP\n",
    "shap.initjs()model\n",
    "\n",
    "shap_explainer = shap.TreeExplainer(grid)\n",
    "shap_values = shap_explainer.shap_values(X)"
   ]
  },
  {
   "cell_type": "code",
   "execution_count": null,
   "id": "92ee153c-27af-480c-8bdf-b97b96f30beb",
   "metadata": {},
   "outputs": [],
   "source": [
    "shap.force_plot(shap_explainer.expected_value, shap_values[1, :], test_1)"
   ]
  },
  {
   "cell_type": "code",
   "execution_count": null,
   "id": "e7ba0fa2-4360-4d28-9cab-331a3e5427f5",
   "metadata": {},
   "outputs": [],
   "source": [
    "precision, recall, f_score, support =precision_recall_fscore_support(y_test, y_class)"
   ]
  },
  {
   "cell_type": "code",
   "execution_count": null,
   "id": "6a4e6c15-0f6b-45d3-bfa0-b42f63e5f825",
   "metadata": {},
   "outputs": [],
   "source": []
  },
  {
   "cell_type": "code",
   "execution_count": null,
   "id": "fc70f1e4-950f-4732-abb5-80febd4f4ecb",
   "metadata": {},
   "outputs": [],
   "source": []
  }
 ],
 "metadata": {
  "kernelspec": {
   "display_name": "Python 3 (ipykernel)",
   "language": "python",
   "name": "python3"
  },
  "language_info": {
   "codemirror_mode": {
    "name": "ipython",
    "version": 3
   },
   "file_extension": ".py",
   "mimetype": "text/x-python",
   "name": "python",
   "nbconvert_exporter": "python",
   "pygments_lexer": "ipython3",
   "version": "3.8.10"
  }
 },
 "nbformat": 4,
 "nbformat_minor": 5
}
