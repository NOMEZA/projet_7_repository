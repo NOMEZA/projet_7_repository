{
 "cells": [
  {
   "cell_type": "code",
   "execution_count": 2,
   "id": "87f11098-4b90-44a0-aeba-5dc4fba1ba03",
   "metadata": {},
   "outputs": [
    {
     "ename": "SyntaxError",
     "evalue": "invalid syntax (1551955430.py, line 12)",
     "output_type": "error",
     "traceback": [
      "\u001b[0;36m  Input \u001b[0;32mIn [2]\u001b[0;36m\u001b[0m\n\u001b[0;31m    print '__call__ with (%d,%d)' % (self.x, self.y)\u001b[0m\n\u001b[0m          ^\u001b[0m\n\u001b[0;31mSyntaxError\u001b[0m\u001b[0;31m:\u001b[0m invalid syntax\n"
     ]
    }
   ],
   "source": [
    "class Stuff(object):\n",
    "\n",
    "    def __init__(self, x, y, range):\n",
    "        super(Stuff, self).__init__()\n",
    "        self.x = x\n",
    "        self.y = y\n",
    "        self.range = range\n",
    "\n",
    "    def __call__(self, x, y):\n",
    "        self.x = x\n",
    "        self.y = y\n",
    "        print '__call__ with (%d,%d)' % (self.x, self.y)\n",
    "\n",
    "    def __del__(self):\n",
    "        del self.x\n",
    "        del self.y\n",
    "        del self.range\n"
   ]
  },
  {
   "cell_type": "code",
   "execution_count": 1,
   "id": "0a4e61a9-1b20-483a-97ae-ab32d162052c",
   "metadata": {},
   "outputs": [
    {
     "ename": "NameError",
     "evalue": "name 'Stuff' is not defined",
     "output_type": "error",
     "traceback": [
      "\u001b[0;31m---------------------------------------------------------------------------\u001b[0m",
      "\u001b[0;31mNameError\u001b[0m                                 Traceback (most recent call last)",
      "Input \u001b[0;32mIn [1]\u001b[0m, in \u001b[0;36m<cell line: 1>\u001b[0;34m()\u001b[0m\n\u001b[0;32m----> 1\u001b[0m s \u001b[38;5;241m=\u001b[39m \u001b[43mStuff\u001b[49m(\u001b[38;5;241m1\u001b[39m, \u001b[38;5;241m2\u001b[39m, \u001b[38;5;241m3\u001b[39m)\n\u001b[1;32m      2\u001b[0m s\u001b[38;5;241m.\u001b[39mx\n",
      "\u001b[0;31mNameError\u001b[0m: name 'Stuff' is not defined"
     ]
    }
   ],
   "source": [
    "s = Stuff(1, 2, 3)\n",
    "s.x"
   ]
  },
  {
   "cell_type": "code",
   "execution_count": null,
   "id": "df437675-5b84-4814-9875-562583f61dcd",
   "metadata": {},
   "outputs": [],
   "source": [
    "s(7, 8)"
   ]
  },
  {
   "cell_type": "code",
   "execution_count": null,
   "id": "445dfd24-43a6-43dc-a865-6a47f32e6584",
   "metadata": {},
   "outputs": [],
   "source": [
    "__call__ with (7,8)"
   ]
  },
  {
   "cell_type": "code",
   "execution_count": null,
   "id": "236d5a81-f3b9-4ae9-867d-0081851c1c3d",
   "metadata": {},
   "outputs": [],
   "source": [
    "s.x"
   ]
  },
  {
   "cell_type": "code",
   "execution_count": null,
   "id": "91896cec-1227-4d7e-bd76-e1e3b8ba110f",
   "metadata": {},
   "outputs": [],
   "source": []
  },
  {
   "cell_type": "code",
   "execution_count": null,
   "id": "eb3fb7ab-bdba-4a72-93c7-f5f6593d491f",
   "metadata": {},
   "outputs": [],
   "source": []
  }
 ],
 "metadata": {
  "kernelspec": {
   "display_name": "Python 3 (ipykernel)",
   "language": "python",
   "name": "python3"
  },
  "language_info": {
   "codemirror_mode": {
    "name": "ipython",
    "version": 3
   },
   "file_extension": ".py",
   "mimetype": "text/x-python",
   "name": "python",
   "nbconvert_exporter": "python",
   "pygments_lexer": "ipython3",
   "version": "3.8.10"
  }
 },
 "nbformat": 4,
 "nbformat_minor": 5
}
