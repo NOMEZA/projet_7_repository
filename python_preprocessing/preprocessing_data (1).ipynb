{
 "cells": [
  {
   "cell_type": "code",
   "execution_count": 1,
   "id": "64cda722-e253-48bf-9375-69320c919f2f",
   "metadata": {},
   "outputs": [],
   "source": [
    "import numpy as np\n",
    "import pandas as pd\n",
    "import gc\n",
    "import time\n",
    "from pickle import dump\n",
    "from contextlib import contextmanager\n",
    "from lightgbm import LGBMClassifier\n",
    "from sklearn.metrics import roc_auc_score, roc_curve\n",
    "from sklearn.model_selection import KFold, StratifiedKFold\n",
    "import matplotlib.pyplot as plt\n",
    "import seaborn as sns\n",
    "import warnings\n",
    "import re\n",
    "import pickle\n",
    "from sklearn.model_selection import train_test_split\n",
    "from sklearn.metrics import roc_curve, auc\n",
    "from sklearn.metrics import plot_confusion_matrix\n",
    "from sklearn.metrics import precision_recall_fscore_support"
   ]
  },
  {
   "cell_type": "code",
   "execution_count": 2,
   "id": "01d28e4c-052c-4040-99b1-12f57b1f9fc2",
   "metadata": {},
   "outputs": [],
   "source": [
    "from matplotlib.colors import ListedColormap\n",
    "from sklearn.model_selection import train_test_split\n",
    "from sklearn.preprocessing import StandardScaler\n",
    "from sklearn.datasets import make_moons, make_circles, make_classification\n",
    "from sklearn.neural_network import MLPClassifier\n",
    "from sklearn.neighbors import KNeighborsClassifier\n",
    "from sklearn.svm import SVC\n",
    "from sklearn.gaussian_process import GaussianProcessClassifier\n",
    "from sklearn.gaussian_process.kernels import RBF\n",
    "from sklearn.tree import DecisionTreeClassifier\n",
    "from sklearn.ensemble import RandomForestClassifier, AdaBoostClassifier\n",
    "from sklearn.naive_bayes import GaussianNB\n",
    "from sklearn.discriminant_analysis import QuadraticDiscriminantAnalysis\n",
    "from sklearn.inspection import DecisionBoundaryDisplay\n",
    "from imblearn.over_sampling import SMOTE "
   ]
  },
  {
   "cell_type": "code",
   "execution_count": 3,
   "id": "bc9c48b1-f53e-4f98-9079-0fde064dcf51",
   "metadata": {},
   "outputs": [],
   "source": [
    "# pip install imblearn"
   ]
  },
  {
   "cell_type": "code",
   "execution_count": 4,
   "id": "a25ed1fd-4e77-415e-b13f-f1cb365f8d26",
   "metadata": {},
   "outputs": [],
   "source": [
    "from sklearn.impute import KNNImputer, SimpleImputer\n",
    "from sklearn.metrics import confusion_matrix"
   ]
  },
  {
   "cell_type": "code",
   "execution_count": 5,
   "id": "9072a689-aedb-4559-ac0e-e5f36617b9df",
   "metadata": {},
   "outputs": [],
   "source": [
    "X=pd.read_csv('../input/data_process.csv', low_memory=False)"
   ]
  },
  {
   "cell_type": "code",
   "execution_count": 6,
   "id": "5fd568c9-98a5-448b-8838-7c61dc8ad20b",
   "metadata": {},
   "outputs": [
    {
     "data": {
      "text/plain": [
       "(356251, 799)"
      ]
     },
     "execution_count": 6,
     "metadata": {},
     "output_type": "execute_result"
    }
   ],
   "source": [
    "X.shape"
   ]
  },
  {
   "cell_type": "code",
   "execution_count": 7,
   "id": "5c1a640d-d4ef-4a10-9481-b298f7ecda8a",
   "metadata": {},
   "outputs": [
    {
     "data": {
      "text/html": [
       "<div>\n",
       "<style scoped>\n",
       "    .dataframe tbody tr th:only-of-type {\n",
       "        vertical-align: middle;\n",
       "    }\n",
       "\n",
       "    .dataframe tbody tr th {\n",
       "        vertical-align: top;\n",
       "    }\n",
       "\n",
       "    .dataframe thead th {\n",
       "        text-align: right;\n",
       "    }\n",
       "</style>\n",
       "<table border=\"1\" class=\"dataframe\">\n",
       "  <thead>\n",
       "    <tr style=\"text-align: right;\">\n",
       "      <th></th>\n",
       "      <th>Unnamed: 0</th>\n",
       "      <th>index</th>\n",
       "      <th>SK_ID_CURR</th>\n",
       "      <th>TARGET</th>\n",
       "      <th>CODE_GENDER</th>\n",
       "      <th>FLAG_OWN_CAR</th>\n",
       "      <th>FLAG_OWN_REALTY</th>\n",
       "      <th>CNT_CHILDREN</th>\n",
       "      <th>AMT_INCOME_TOTAL</th>\n",
       "      <th>AMT_CREDIT</th>\n",
       "      <th>...</th>\n",
       "      <th>CC_NAME_CONTRACT_STATUS_Signed_MAX</th>\n",
       "      <th>CC_NAME_CONTRACT_STATUS_Signed_MEAN</th>\n",
       "      <th>CC_NAME_CONTRACT_STATUS_Signed_SUM</th>\n",
       "      <th>CC_NAME_CONTRACT_STATUS_Signed_VAR</th>\n",
       "      <th>CC_NAME_CONTRACT_STATUS_nan_MIN</th>\n",
       "      <th>CC_NAME_CONTRACT_STATUS_nan_MAX</th>\n",
       "      <th>CC_NAME_CONTRACT_STATUS_nan_MEAN</th>\n",
       "      <th>CC_NAME_CONTRACT_STATUS_nan_SUM</th>\n",
       "      <th>CC_NAME_CONTRACT_STATUS_nan_VAR</th>\n",
       "      <th>CC_COUNT</th>\n",
       "    </tr>\n",
       "  </thead>\n",
       "  <tbody>\n",
       "    <tr>\n",
       "      <th>0</th>\n",
       "      <td>0</td>\n",
       "      <td>0</td>\n",
       "      <td>100002</td>\n",
       "      <td>1.0</td>\n",
       "      <td>0</td>\n",
       "      <td>0</td>\n",
       "      <td>0</td>\n",
       "      <td>0</td>\n",
       "      <td>202500.0</td>\n",
       "      <td>406597.5</td>\n",
       "      <td>...</td>\n",
       "      <td>NaN</td>\n",
       "      <td>NaN</td>\n",
       "      <td>NaN</td>\n",
       "      <td>NaN</td>\n",
       "      <td>NaN</td>\n",
       "      <td>NaN</td>\n",
       "      <td>NaN</td>\n",
       "      <td>NaN</td>\n",
       "      <td>NaN</td>\n",
       "      <td>NaN</td>\n",
       "    </tr>\n",
       "    <tr>\n",
       "      <th>1</th>\n",
       "      <td>1</td>\n",
       "      <td>1</td>\n",
       "      <td>100003</td>\n",
       "      <td>0.0</td>\n",
       "      <td>1</td>\n",
       "      <td>0</td>\n",
       "      <td>1</td>\n",
       "      <td>0</td>\n",
       "      <td>270000.0</td>\n",
       "      <td>1293502.5</td>\n",
       "      <td>...</td>\n",
       "      <td>NaN</td>\n",
       "      <td>NaN</td>\n",
       "      <td>NaN</td>\n",
       "      <td>NaN</td>\n",
       "      <td>NaN</td>\n",
       "      <td>NaN</td>\n",
       "      <td>NaN</td>\n",
       "      <td>NaN</td>\n",
       "      <td>NaN</td>\n",
       "      <td>NaN</td>\n",
       "    </tr>\n",
       "    <tr>\n",
       "      <th>2</th>\n",
       "      <td>2</td>\n",
       "      <td>2</td>\n",
       "      <td>100004</td>\n",
       "      <td>0.0</td>\n",
       "      <td>0</td>\n",
       "      <td>1</td>\n",
       "      <td>0</td>\n",
       "      <td>0</td>\n",
       "      <td>67500.0</td>\n",
       "      <td>135000.0</td>\n",
       "      <td>...</td>\n",
       "      <td>NaN</td>\n",
       "      <td>NaN</td>\n",
       "      <td>NaN</td>\n",
       "      <td>NaN</td>\n",
       "      <td>NaN</td>\n",
       "      <td>NaN</td>\n",
       "      <td>NaN</td>\n",
       "      <td>NaN</td>\n",
       "      <td>NaN</td>\n",
       "      <td>NaN</td>\n",
       "    </tr>\n",
       "    <tr>\n",
       "      <th>3</th>\n",
       "      <td>3</td>\n",
       "      <td>3</td>\n",
       "      <td>100006</td>\n",
       "      <td>0.0</td>\n",
       "      <td>1</td>\n",
       "      <td>0</td>\n",
       "      <td>0</td>\n",
       "      <td>0</td>\n",
       "      <td>135000.0</td>\n",
       "      <td>312682.5</td>\n",
       "      <td>...</td>\n",
       "      <td>0.0</td>\n",
       "      <td>0.0</td>\n",
       "      <td>0.0</td>\n",
       "      <td>0.0</td>\n",
       "      <td>0.0</td>\n",
       "      <td>0.0</td>\n",
       "      <td>0.0</td>\n",
       "      <td>0.0</td>\n",
       "      <td>0.0</td>\n",
       "      <td>6.0</td>\n",
       "    </tr>\n",
       "    <tr>\n",
       "      <th>4</th>\n",
       "      <td>4</td>\n",
       "      <td>4</td>\n",
       "      <td>100007</td>\n",
       "      <td>0.0</td>\n",
       "      <td>0</td>\n",
       "      <td>0</td>\n",
       "      <td>0</td>\n",
       "      <td>0</td>\n",
       "      <td>121500.0</td>\n",
       "      <td>513000.0</td>\n",
       "      <td>...</td>\n",
       "      <td>NaN</td>\n",
       "      <td>NaN</td>\n",
       "      <td>NaN</td>\n",
       "      <td>NaN</td>\n",
       "      <td>NaN</td>\n",
       "      <td>NaN</td>\n",
       "      <td>NaN</td>\n",
       "      <td>NaN</td>\n",
       "      <td>NaN</td>\n",
       "      <td>NaN</td>\n",
       "    </tr>\n",
       "  </tbody>\n",
       "</table>\n",
       "<p>5 rows × 799 columns</p>\n",
       "</div>"
      ],
      "text/plain": [
       "   Unnamed: 0  index  SK_ID_CURR  TARGET  CODE_GENDER  FLAG_OWN_CAR  \\\n",
       "0           0      0      100002     1.0            0             0   \n",
       "1           1      1      100003     0.0            1             0   \n",
       "2           2      2      100004     0.0            0             1   \n",
       "3           3      3      100006     0.0            1             0   \n",
       "4           4      4      100007     0.0            0             0   \n",
       "\n",
       "   FLAG_OWN_REALTY  CNT_CHILDREN  AMT_INCOME_TOTAL  AMT_CREDIT  ...  \\\n",
       "0                0             0          202500.0    406597.5  ...   \n",
       "1                1             0          270000.0   1293502.5  ...   \n",
       "2                0             0           67500.0    135000.0  ...   \n",
       "3                0             0          135000.0    312682.5  ...   \n",
       "4                0             0          121500.0    513000.0  ...   \n",
       "\n",
       "   CC_NAME_CONTRACT_STATUS_Signed_MAX  CC_NAME_CONTRACT_STATUS_Signed_MEAN  \\\n",
       "0                                 NaN                                  NaN   \n",
       "1                                 NaN                                  NaN   \n",
       "2                                 NaN                                  NaN   \n",
       "3                                 0.0                                  0.0   \n",
       "4                                 NaN                                  NaN   \n",
       "\n",
       "   CC_NAME_CONTRACT_STATUS_Signed_SUM  CC_NAME_CONTRACT_STATUS_Signed_VAR  \\\n",
       "0                                 NaN                                 NaN   \n",
       "1                                 NaN                                 NaN   \n",
       "2                                 NaN                                 NaN   \n",
       "3                                 0.0                                 0.0   \n",
       "4                                 NaN                                 NaN   \n",
       "\n",
       "   CC_NAME_CONTRACT_STATUS_nan_MIN  CC_NAME_CONTRACT_STATUS_nan_MAX  \\\n",
       "0                              NaN                              NaN   \n",
       "1                              NaN                              NaN   \n",
       "2                              NaN                              NaN   \n",
       "3                              0.0                              0.0   \n",
       "4                              NaN                              NaN   \n",
       "\n",
       "   CC_NAME_CONTRACT_STATUS_nan_MEAN  CC_NAME_CONTRACT_STATUS_nan_SUM  \\\n",
       "0                               NaN                              NaN   \n",
       "1                               NaN                              NaN   \n",
       "2                               NaN                              NaN   \n",
       "3                               0.0                              0.0   \n",
       "4                               NaN                              NaN   \n",
       "\n",
       "   CC_NAME_CONTRACT_STATUS_nan_VAR  CC_COUNT  \n",
       "0                              NaN       NaN  \n",
       "1                              NaN       NaN  \n",
       "2                              NaN       NaN  \n",
       "3                              0.0       6.0  \n",
       "4                              NaN       NaN  \n",
       "\n",
       "[5 rows x 799 columns]"
      ]
     },
     "execution_count": 7,
     "metadata": {},
     "output_type": "execute_result"
    }
   ],
   "source": [
    "X.head()"
   ]
  },
  {
   "cell_type": "code",
   "execution_count": 8,
   "id": "877f79f6-d1d9-4fe6-a3ff-1026953b7ab1",
   "metadata": {},
   "outputs": [],
   "source": [
    "#df.columns.tolist()"
   ]
  },
  {
   "cell_type": "markdown",
   "id": "10a96b83-1492-4200-ace5-86c49c901c7c",
   "metadata": {},
   "source": [
    "# Préprocessing "
   ]
  },
  {
   "cell_type": "code",
   "execution_count": 9,
   "id": "9bc4e894-3fd8-449e-94af-9c7b5c2f9b95",
   "metadata": {},
   "outputs": [],
   "source": [
    "X = X[X['TARGET'].notnull()] "
   ]
  },
  {
   "cell_type": "code",
   "execution_count": 10,
   "id": "cf32f09c-875c-41d8-a53c-1e27097353ea",
   "metadata": {},
   "outputs": [],
   "source": [
    "X = X.drop(\"Unnamed: 0\", axis=1)"
   ]
  },
  {
   "cell_type": "code",
   "execution_count": 11,
   "id": "360b6109-c930-42f4-8314-bdb084f6bb99",
   "metadata": {},
   "outputs": [],
   "source": [
    "X = X.drop(\"index\", axis=1)"
   ]
  },
  {
   "cell_type": "code",
   "execution_count": 12,
   "id": "8d76f276-1fe5-47b0-a060-cbc14040c1dd",
   "metadata": {},
   "outputs": [],
   "source": [
    "X = X.drop(\"SK_ID_CURR\", axis=1)"
   ]
  },
  {
   "cell_type": "code",
   "execution_count": 13,
   "id": "69348ee4-49cd-47b9-a1e9-2f0df0e9413c",
   "metadata": {},
   "outputs": [],
   "source": [
    "Y = X[\"TARGET\"]"
   ]
  },
  {
   "cell_type": "code",
   "execution_count": 14,
   "id": "fb845e84-aebb-4be4-b5bc-3279672413a3",
   "metadata": {},
   "outputs": [],
   "source": [
    "X= X.drop(\"TARGET\", axis=1)"
   ]
  },
  {
   "cell_type": "markdown",
   "id": "11a0b9fc-eccc-4dcd-8fa5-e264bd34fb78",
   "metadata": {},
   "source": [
    "## Gestion des valeurs manquantes"
   ]
  },
  {
   "cell_type": "code",
   "execution_count": 15,
   "id": "7de13136-5542-479b-856d-c31d42772fc2",
   "metadata": {},
   "outputs": [],
   "source": [
    "ratio_nas = X.isna().sum()/X.shape[0]"
   ]
  },
  {
   "cell_type": "code",
   "execution_count": 16,
   "id": "7f4448d6-1534-45bc-a700-aece4a15fa58",
   "metadata": {},
   "outputs": [],
   "source": [
    "useful_columns_less_than_ratio = ratio_nas[ratio_nas<0.25].index"
   ]
  },
  {
   "cell_type": "code",
   "execution_count": 17,
   "id": "7cbc08bc-e7f1-438f-932e-8a669c538929",
   "metadata": {},
   "outputs": [],
   "source": [
    "X = X[useful_columns_less_than_ratio]"
   ]
  },
  {
   "cell_type": "code",
   "execution_count": 18,
   "id": "8959a051-60dc-4001-be4d-d801ae56a411",
   "metadata": {},
   "outputs": [
    {
     "data": {
      "text/plain": [
       "(307507, 507)"
      ]
     },
     "execution_count": 18,
     "metadata": {},
     "output_type": "execute_result"
    }
   ],
   "source": [
    "X.shape"
   ]
  },
  {
   "cell_type": "code",
   "execution_count": 19,
   "id": "c00f4b70-c475-4723-b011-090aebb6bc19",
   "metadata": {},
   "outputs": [],
   "source": [
    "X[~np.isfinite(X)] = np.nan"
   ]
  },
  {
   "cell_type": "code",
   "execution_count": 20,
   "id": "80aab865-2686-456c-8af4-173535bc2a61",
   "metadata": {},
   "outputs": [],
   "source": [
    "imputer = SimpleImputer(strategy=\"median\")"
   ]
  },
  {
   "cell_type": "code",
   "execution_count": 21,
   "id": "b4161410-0431-43c3-8f03-9cbb722ebc0d",
   "metadata": {},
   "outputs": [],
   "source": [
    "columns_keep = X.columns"
   ]
  },
  {
   "cell_type": "code",
   "execution_count": 22,
   "id": "bf513cdc-e515-4fce-902a-dd6a1e9f0fec",
   "metadata": {},
   "outputs": [],
   "source": [
    "X = imputer.fit_transform(X)"
   ]
  },
  {
   "cell_type": "code",
   "execution_count": 23,
   "id": "03f58cf1-2f55-465f-8abf-e51c9138807b",
   "metadata": {},
   "outputs": [],
   "source": [
    "X = pd.DataFrame(X, columns=columns_keep)"
   ]
  },
  {
   "cell_type": "markdown",
   "id": "bb1ced13-4420-46ca-883a-5dd477277bb1",
   "metadata": {},
   "source": [
    "## Gestion des outliers"
   ]
  },
  {
   "cell_type": "code",
   "execution_count": 24,
   "id": "8bca721e-dd70-4b62-bd8d-03e5fe28bb4d",
   "metadata": {},
   "outputs": [],
   "source": [
    "# >>> from sklearn.ensemble import IsolationForest\n",
    "# >>> X = [[-1.1], [0.3], [0.5], [100]]\n",
    "# >>> clf = IsolationForest(random_state=0).fit(X)\n",
    "# >>> clf.predict([[0.1], [0], [90]])"
   ]
  },
  {
   "cell_type": "code",
   "execution_count": 25,
   "id": "6f850794-fb76-4e54-970e-42be7c7f7b24",
   "metadata": {},
   "outputs": [],
   "source": [
    "# numerics_columns=X.select_dtypes(include = ['int32','float64']).columns"
   ]
  },
  {
   "cell_type": "code",
   "execution_count": 26,
   "id": "50c22d60-99c2-403a-9884-e96cc7fe6219",
   "metadata": {},
   "outputs": [],
   "source": [
    "# df_num=df[numerics_columns]"
   ]
  },
  {
   "cell_type": "code",
   "execution_count": 27,
   "id": "8604fa5e-2b9b-434c-a9ac-98d33f47101a",
   "metadata": {},
   "outputs": [],
   "source": [
    "# df_num=df_num.sample(8)"
   ]
  },
  {
   "cell_type": "code",
   "execution_count": 28,
   "id": "be59ca71-4f57-48bc-bfd1-a4e275f11bac",
   "metadata": {},
   "outputs": [],
   "source": [
    "# numeric_value = df_num.select_dtypes(include = ['int32','float64']).columns\n",
    "# for column in numeric_value:\n",
    "#     plt.figure(figsize = (10,2))\n",
    "#     sns.set(font_scale=1)\n",
    "#     sns.distplot(df_num[column], bins=50)\n",
    "#     chaine = 'Distribution de : ' + column\n",
    "#     plt.title(chaine)\n",
    "#     plt.xlabel(column)\n",
    "#     plt.show()"
   ]
  },
  {
   "cell_type": "markdown",
   "id": "1a1aa644-a409-4cd7-860a-fc6b13e6c0e9",
   "metadata": {},
   "source": [
    "### Graphique via boxplot pour l'identification des points abérrants"
   ]
  },
  {
   "cell_type": "code",
   "execution_count": 29,
   "id": "a691fa0d-179b-424a-87d7-f9537d964aac",
   "metadata": {},
   "outputs": [],
   "source": [
    "# sns.set(font_scale=2)\n",
    "# for column in numeric_value[1:]:\n",
    "#     plt.figure(figsize = (9,7))\n",
    "#     sns.boxplot(df_num[column])\n",
    "#     chaine = 'Distribution de : ' + column\n",
    "#     plt.title(chaine)\n",
    "#     plt.xlabel(column)\n",
    "#     plt.show()\n",
    "# sns.set(font_scale=1)"
   ]
  },
  {
   "cell_type": "code",
   "execution_count": 31,
   "id": "1440f3c9-1d7f-411c-8e85-17cb280f223b",
   "metadata": {},
   "outputs": [],
   "source": [
    "# dict_quantile = {} \n",
    "# for res in set (X[\"AMT_INCOME_TOTAL\"]): \n",
    "#     mask_res = X[\"AMT_INCOME_TOTAL\"]==\"25000\" \n",
    "#     data_res=X.loc[mask_res]\n",
    "#     if data_res.shape[0]>0: \n",
    "#         q1=X[numeric_columns].quantile(q=0.25)\n",
    "#         q3=X[numeric_columns].quantile(q=0.75)\n",
    "#         q2=X[numeric_columns].quantile(q=0.5)\n",
    "#         IQR = q3-q1\n",
    "#         borne_sup = q3 + 1.5*IQR \n",
    "#         borne_inf = q1 - 1.5*IQR \n",
    "#         dict_quantile[res]=(borne_inf, borne_sup, q2) "
   ]
  },
  {
   "cell_type": "code",
   "execution_count": 35,
   "id": "578e967c-472e-4eda-b830-23d3473d636c",
   "metadata": {},
   "outputs": [],
   "source": [
    "def impute_outliers(row: pd.Series):\n",
    "    ''' \n",
    "        # METHODE DE DOCSTRING AVEC TOUS LES COMMENTAIRES: return, etc\n",
    "       elle permet d'imputer les valeurs abérantes par la moyenne lorsque els données sont \n",
    "       infé aux 1 quartilers et sup aux 3ème quantilles\n",
    "       :param row : pandas Series\n",
    "       :return the tranformated row\n",
    "    '''\n",
    "    for name_col_numerique in numeric_columns:\n",
    "        category_pro=str(row[\"AMT_INCOME_TOTAL\"])\n",
    "        if category_pro in dict_quantile: \n",
    "            valeur_dico=dict_quantile[category_pro] \n",
    "            if row[name_col_numerique]<valeur_dico [0][name_col_numerique] or row [name_col_numerique] > valeur_dico[1][name_col_numerique]:\n",
    "                row [name_col_numerique]=valeur_dico[2][name_col_numerique]\n",
    "    return row "
   ]
  },
  {
   "cell_type": "code",
   "execution_count": 36,
   "id": "b2b993e1-30e9-4e79-997c-a3381c592211",
   "metadata": {},
   "outputs": [],
   "source": [
    "# df2=df2.apply(impute_outliers, axis=1)"
   ]
  },
  {
   "cell_type": "markdown",
   "id": "1be96e74-7319-49c4-8e3c-184209082f5e",
   "metadata": {},
   "source": [
    "## Vérification s'il existe encore des outliers par matrice ou graphique"
   ]
  },
  {
   "cell_type": "code",
   "execution_count": null,
   "id": "b04a198b-74f9-4941-ad58-74714401638c",
   "metadata": {},
   "outputs": [],
   "source": []
  },
  {
   "cell_type": "code",
   "execution_count": 32,
   "id": "643c2afc-d513-48bb-a2ae-fe6060818d9c",
   "metadata": {},
   "outputs": [],
   "source": [
    "X.to_csv(\"X_clean.csv\", index=False)\n",
    "Y.to_csv(\"Y_clean.csv\", index=False)"
   ]
  },
  {
   "cell_type": "code",
   "execution_count": null,
   "id": "01c30713-3669-4b1e-95a7-1850385c7f5f",
   "metadata": {},
   "outputs": [],
   "source": []
  }
 ],
 "metadata": {
  "kernelspec": {
   "display_name": "Python 3 (ipykernel)",
   "language": "python",
   "name": "python3"
  },
  "language_info": {
   "codemirror_mode": {
    "name": "ipython",
    "version": 3
   },
   "file_extension": ".py",
   "mimetype": "text/x-python",
   "name": "python",
   "nbconvert_exporter": "python",
   "pygments_lexer": "ipython3",
   "version": "3.9.7"
  },
  "toc-autonumbering": true
 },
 "nbformat": 4,
 "nbformat_minor": 5
}
